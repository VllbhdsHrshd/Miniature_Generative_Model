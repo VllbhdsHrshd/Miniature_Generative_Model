{
 "cells": [
  {
   "cell_type": "code",
   "execution_count": 1,
   "id": "4a8ba405",
   "metadata": {
    "_cell_guid": "b1076dfc-b9ad-4769-8c92-a6c4dae69d19",
    "_uuid": "8f2839f25d086af736a60e9eeb907d3b93b6e0e5",
    "execution": {
     "iopub.execute_input": "2023-08-02T16:18:19.293317Z",
     "iopub.status.busy": "2023-08-02T16:18:19.292427Z",
     "iopub.status.idle": "2023-08-02T16:18:19.304185Z",
     "shell.execute_reply": "2023-08-02T16:18:19.303321Z"
    },
    "papermill": {
     "duration": 0.02751,
     "end_time": "2023-08-02T16:18:19.306476",
     "exception": false,
     "start_time": "2023-08-02T16:18:19.278966",
     "status": "completed"
    },
    "tags": []
   },
   "outputs": [],
   "source": [
    "import pandas as pd"
   ]
  },
  {
   "cell_type": "markdown",
   "id": "8c845b0d",
   "metadata": {
    "papermill": {
     "duration": 0.011906,
     "end_time": "2023-08-02T16:18:19.330735",
     "exception": false,
     "start_time": "2023-08-02T16:18:19.318829",
     "status": "completed"
    },
    "tags": []
   },
   "source": [
    "path to csv file....."
   ]
  },
  {
   "cell_type": "code",
   "execution_count": 2,
   "id": "67632dd9",
   "metadata": {
    "execution": {
     "iopub.execute_input": "2023-08-02T16:18:19.355296Z",
     "iopub.status.busy": "2023-08-02T16:18:19.355029Z",
     "iopub.status.idle": "2023-08-02T16:18:19.360259Z",
     "shell.execute_reply": "2023-08-02T16:18:19.359404Z"
    },
    "papermill": {
     "duration": 0.019796,
     "end_time": "2023-08-02T16:18:19.362155",
     "exception": false,
     "start_time": "2023-08-02T16:18:19.342359",
     "status": "completed"
    },
    "tags": []
   },
   "outputs": [],
   "source": [
    "path_csv = \"/kaggle/input/sarcastic-comments-on-reddit/train-balanced-sarcasm.csv\""
   ]
  },
  {
   "cell_type": "markdown",
   "id": "94c7b5b0",
   "metadata": {
    "papermill": {
     "duration": 0.011905,
     "end_time": "2023-08-02T16:18:19.385964",
     "exception": false,
     "start_time": "2023-08-02T16:18:19.374059",
     "status": "completed"
    },
    "tags": []
   },
   "source": [
    "Load the CSV File"
   ]
  },
  {
   "cell_type": "code",
   "execution_count": 3,
   "id": "bc31beba",
   "metadata": {
    "execution": {
     "iopub.execute_input": "2023-08-02T16:18:19.410569Z",
     "iopub.status.busy": "2023-08-02T16:18:19.409977Z",
     "iopub.status.idle": "2023-08-02T16:18:26.161639Z",
     "shell.execute_reply": "2023-08-02T16:18:26.160615Z"
    },
    "papermill": {
     "duration": 6.766887,
     "end_time": "2023-08-02T16:18:26.164449",
     "exception": false,
     "start_time": "2023-08-02T16:18:19.397562",
     "status": "completed"
    },
    "tags": []
   },
   "outputs": [],
   "source": [
    "df = pd.read_csv(path_csv)\n"
   ]
  },
  {
   "cell_type": "markdown",
   "id": "1f2cd825",
   "metadata": {
    "papermill": {
     "duration": 0.011955,
     "end_time": "2023-08-02T16:18:26.188593",
     "exception": false,
     "start_time": "2023-08-02T16:18:26.176638",
     "status": "completed"
    },
    "tags": []
   },
   "source": [
    "Lets shuffle and see the top 20 rows,,"
   ]
  },
  {
   "cell_type": "code",
   "execution_count": 4,
   "id": "29cc89ee",
   "metadata": {
    "execution": {
     "iopub.execute_input": "2023-08-02T16:18:26.213022Z",
     "iopub.status.busy": "2023-08-02T16:18:26.212722Z",
     "iopub.status.idle": "2023-08-02T16:18:26.910009Z",
     "shell.execute_reply": "2023-08-02T16:18:26.908941Z"
    },
    "papermill": {
     "duration": 0.713475,
     "end_time": "2023-08-02T16:18:26.913625",
     "exception": false,
     "start_time": "2023-08-02T16:18:26.200150",
     "status": "completed"
    },
    "tags": []
   },
   "outputs": [
    {
     "data": {
      "text/html": [
       "<div>\n",
       "<style scoped>\n",
       "    .dataframe tbody tr th:only-of-type {\n",
       "        vertical-align: middle;\n",
       "    }\n",
       "\n",
       "    .dataframe tbody tr th {\n",
       "        vertical-align: top;\n",
       "    }\n",
       "\n",
       "    .dataframe thead th {\n",
       "        text-align: right;\n",
       "    }\n",
       "</style>\n",
       "<table border=\"1\" class=\"dataframe\">\n",
       "  <thead>\n",
       "    <tr style=\"text-align: right;\">\n",
       "      <th></th>\n",
       "      <th>label</th>\n",
       "      <th>comment</th>\n",
       "      <th>author</th>\n",
       "      <th>subreddit</th>\n",
       "      <th>score</th>\n",
       "      <th>ups</th>\n",
       "      <th>downs</th>\n",
       "      <th>date</th>\n",
       "      <th>created_utc</th>\n",
       "      <th>parent_comment</th>\n",
       "    </tr>\n",
       "  </thead>\n",
       "  <tbody>\n",
       "    <tr>\n",
       "      <th>0</th>\n",
       "      <td>1</td>\n",
       "      <td>We definitely need more passiveness.</td>\n",
       "      <td>Xensphere</td>\n",
       "      <td>leagueoflegends</td>\n",
       "      <td>1</td>\n",
       "      <td>1</td>\n",
       "      <td>0</td>\n",
       "      <td>2012-10</td>\n",
       "      <td>2012-10-20 07:50:23</td>\n",
       "      <td>I was actually happy with the new turret attac...</td>\n",
       "    </tr>\n",
       "    <tr>\n",
       "      <th>1</th>\n",
       "      <td>0</td>\n",
       "      <td>I'm thinking it happened when they were forced...</td>\n",
       "      <td>cjandstuff</td>\n",
       "      <td>cablefail</td>\n",
       "      <td>1</td>\n",
       "      <td>1</td>\n",
       "      <td>0</td>\n",
       "      <td>2016-04</td>\n",
       "      <td>2016-04-12 16:31:27</td>\n",
       "      <td>Walked into a site to do some installs and see...</td>\n",
       "    </tr>\n",
       "    <tr>\n",
       "      <th>2</th>\n",
       "      <td>0</td>\n",
       "      <td>I hurt him.</td>\n",
       "      <td>ThatOneFace</td>\n",
       "      <td>raisedbynarcissists</td>\n",
       "      <td>2</td>\n",
       "      <td>2</td>\n",
       "      <td>0</td>\n",
       "      <td>2015-05</td>\n",
       "      <td>2015-05-30 12:59:55</td>\n",
       "      <td>Losing someone does not make you a bad person....</td>\n",
       "    </tr>\n",
       "    <tr>\n",
       "      <th>3</th>\n",
       "      <td>1</td>\n",
       "      <td>Yeah and the always picked Azir/Viktor in the ...</td>\n",
       "      <td>KeeganKGB</td>\n",
       "      <td>leagueoflegends</td>\n",
       "      <td>2</td>\n",
       "      <td>2</td>\n",
       "      <td>0</td>\n",
       "      <td>2015-07</td>\n",
       "      <td>2015-07-11 22:40:18</td>\n",
       "      <td>Why TSM (or any NA team) will have NO chance a...</td>\n",
       "    </tr>\n",
       "    <tr>\n",
       "      <th>4</th>\n",
       "      <td>1</td>\n",
       "      <td>But dae MRAs are the \"rational\" ones and ass j...</td>\n",
       "      <td>FattyMcPatty</td>\n",
       "      <td>againstmensrights</td>\n",
       "      <td>24</td>\n",
       "      <td>24</td>\n",
       "      <td>0</td>\n",
       "      <td>2015-07</td>\n",
       "      <td>2015-07-18 20:30:22</td>\n",
       "      <td>In a post titled \"#ShootAFeministInTheFace\", J...</td>\n",
       "    </tr>\n",
       "    <tr>\n",
       "      <th>5</th>\n",
       "      <td>1</td>\n",
       "      <td>Freaking broke people get all the breaks.</td>\n",
       "      <td>the_sam_ryan</td>\n",
       "      <td>personalfinance</td>\n",
       "      <td>2</td>\n",
       "      <td>2</td>\n",
       "      <td>0</td>\n",
       "      <td>2015-02</td>\n",
       "      <td>2015-02-02 18:05:36</td>\n",
       "      <td>Yeah being short on money things like snacks a...</td>\n",
       "    </tr>\n",
       "    <tr>\n",
       "      <th>6</th>\n",
       "      <td>1</td>\n",
       "      <td>You know he consulted with himself and is lead...</td>\n",
       "      <td>tomanonimos</td>\n",
       "      <td>nottheonion</td>\n",
       "      <td>0</td>\n",
       "      <td>0</td>\n",
       "      <td>0</td>\n",
       "      <td>2016-03</td>\n",
       "      <td>2016-03-16 21:12:20</td>\n",
       "      <td>Trump: I consult myself on foreign policy</td>\n",
       "    </tr>\n",
       "    <tr>\n",
       "      <th>7</th>\n",
       "      <td>1</td>\n",
       "      <td>BJ Penn paid him that much and Dolce didnt do ...</td>\n",
       "      <td>thearsonistsaint</td>\n",
       "      <td>MMA</td>\n",
       "      <td>2</td>\n",
       "      <td>2</td>\n",
       "      <td>0</td>\n",
       "      <td>2015-07</td>\n",
       "      <td>2015-07-07 01:03:12</td>\n",
       "      <td>Hmm I'm not sure about Ronda, she uses Mike Do...</td>\n",
       "    </tr>\n",
       "    <tr>\n",
       "      <th>8</th>\n",
       "      <td>0</td>\n",
       "      <td>I've said multiple times that I could stay san...</td>\n",
       "      <td>Puritan_Sensibility</td>\n",
       "      <td>AskReddit</td>\n",
       "      <td>2</td>\n",
       "      <td>-1</td>\n",
       "      <td>-1</td>\n",
       "      <td>2016-10</td>\n",
       "      <td>2016-10-26 17:09:56</td>\n",
       "      <td>I don't do that specifically, but I'm definite...</td>\n",
       "    </tr>\n",
       "    <tr>\n",
       "      <th>9</th>\n",
       "      <td>1</td>\n",
       "      <td>But but... lane splitting is the safest...</td>\n",
       "      <td>highspeed_lowdrag2</td>\n",
       "      <td>JusticePorn</td>\n",
       "      <td>0</td>\n",
       "      <td>0</td>\n",
       "      <td>0</td>\n",
       "      <td>2015-02</td>\n",
       "      <td>2015-02-20 20:32:56</td>\n",
       "      <td>Motorcyclist receives justice for driving reck...</td>\n",
       "    </tr>\n",
       "    <tr>\n",
       "      <th>10</th>\n",
       "      <td>0</td>\n",
       "      <td>10/10</td>\n",
       "      <td>TheKinkMaster</td>\n",
       "      <td>forearmporn</td>\n",
       "      <td>4</td>\n",
       "      <td>4</td>\n",
       "      <td>0</td>\n",
       "      <td>2015-07</td>\n",
       "      <td>2015-07-22 09:03:59</td>\n",
       "      <td>So I didn't know this sub was a thing...</td>\n",
       "    </tr>\n",
       "    <tr>\n",
       "      <th>11</th>\n",
       "      <td>0</td>\n",
       "      <td>lmao it started at apple store.... because it'...</td>\n",
       "      <td>JonasBrosSuck</td>\n",
       "      <td>KimmySchmidt</td>\n",
       "      <td>9</td>\n",
       "      <td>9</td>\n",
       "      <td>0</td>\n",
       "      <td>2016-04</td>\n",
       "      <td>2016-04-16 19:26:01</td>\n",
       "      <td>Episode Discussion: S02E04 \"Kimmy Kidnaps Gret...</td>\n",
       "    </tr>\n",
       "    <tr>\n",
       "      <th>12</th>\n",
       "      <td>1</td>\n",
       "      <td>They are going to make a profit with vehicle b...</td>\n",
       "      <td>d2_ricci</td>\n",
       "      <td>Amd</td>\n",
       "      <td>23</td>\n",
       "      <td>23</td>\n",
       "      <td>0</td>\n",
       "      <td>2016-04</td>\n",
       "      <td>2016-04-14 02:24:27</td>\n",
       "      <td>I don't know what they are gonna do, they need...</td>\n",
       "    </tr>\n",
       "    <tr>\n",
       "      <th>13</th>\n",
       "      <td>0</td>\n",
       "      <td>hasn't Chicago suffered enough already?</td>\n",
       "      <td>schmeebasaur</td>\n",
       "      <td>MLS</td>\n",
       "      <td>1</td>\n",
       "      <td>-1</td>\n",
       "      <td>-1</td>\n",
       "      <td>2016-10</td>\n",
       "      <td>2016-10-29 04:36:32</td>\n",
       "      <td>Sure. Let him score 15 goals for Chicago or Ph...</td>\n",
       "    </tr>\n",
       "    <tr>\n",
       "      <th>14</th>\n",
       "      <td>1</td>\n",
       "      <td>He's a man though so women are allowed to hit ...</td>\n",
       "      <td>Texas_sniper41</td>\n",
       "      <td>videos</td>\n",
       "      <td>122</td>\n",
       "      <td>122</td>\n",
       "      <td>0</td>\n",
       "      <td>2015-10</td>\n",
       "      <td>2015-10-07 01:30:13</td>\n",
       "      <td>Obviously the actions of a few individuals isn...</td>\n",
       "    </tr>\n",
       "    <tr>\n",
       "      <th>15</th>\n",
       "      <td>0</td>\n",
       "      <td>And the Monster Energy logo.</td>\n",
       "      <td>DeathWalkingTerror</td>\n",
       "      <td>cars</td>\n",
       "      <td>1</td>\n",
       "      <td>1</td>\n",
       "      <td>0</td>\n",
       "      <td>2015-01</td>\n",
       "      <td>2015-01-08 22:48:21</td>\n",
       "      <td>And Fox.</td>\n",
       "    </tr>\n",
       "    <tr>\n",
       "      <th>16</th>\n",
       "      <td>1</td>\n",
       "      <td>I've never, ever, ever, seen a 2.0 shipping de...</td>\n",
       "      <td>ranhalt</td>\n",
       "      <td>soylent</td>\n",
       "      <td>1</td>\n",
       "      <td>-1</td>\n",
       "      <td>-1</td>\n",
       "      <td>2016-11</td>\n",
       "      <td>2016-11-12 02:15:56</td>\n",
       "      <td>2.0 Shipping delays? I haven't heard anything ...</td>\n",
       "    </tr>\n",
       "    <tr>\n",
       "      <th>17</th>\n",
       "      <td>1</td>\n",
       "      <td>Wow would never have guessed</td>\n",
       "      <td>YayScience120</td>\n",
       "      <td>psychology</td>\n",
       "      <td>1</td>\n",
       "      <td>1</td>\n",
       "      <td>0</td>\n",
       "      <td>2016-09</td>\n",
       "      <td>2016-09-28 19:43:43</td>\n",
       "      <td>Candid communication grows on trust</td>\n",
       "    </tr>\n",
       "    <tr>\n",
       "      <th>18</th>\n",
       "      <td>0</td>\n",
       "      <td>Yes</td>\n",
       "      <td>Leafs17</td>\n",
       "      <td>xboxone</td>\n",
       "      <td>1</td>\n",
       "      <td>1</td>\n",
       "      <td>0</td>\n",
       "      <td>2016-09</td>\n",
       "      <td>2016-09-19 12:28:42</td>\n",
       "      <td>so you're saying if you sit 5 ft. or less it's...</td>\n",
       "    </tr>\n",
       "    <tr>\n",
       "      <th>19</th>\n",
       "      <td>1</td>\n",
       "      <td>Oh that is just what the USA needs now</td>\n",
       "      <td>monkeybonerinmouth</td>\n",
       "      <td>politics</td>\n",
       "      <td>2</td>\n",
       "      <td>-1</td>\n",
       "      <td>-1</td>\n",
       "      <td>2016-11</td>\n",
       "      <td>2016-11-15 01:29:57</td>\n",
       "      <td>He is an old, crazy war hungry bastard.</td>\n",
       "    </tr>\n",
       "  </tbody>\n",
       "</table>\n",
       "</div>"
      ],
      "text/plain": [
       "    label                                            comment  \\\n",
       "0       1               We definitely need more passiveness.   \n",
       "1       0  I'm thinking it happened when they were forced...   \n",
       "2       0                                        I hurt him.   \n",
       "3       1  Yeah and the always picked Azir/Viktor in the ...   \n",
       "4       1  But dae MRAs are the \"rational\" ones and ass j...   \n",
       "5       1          Freaking broke people get all the breaks.   \n",
       "6       1  You know he consulted with himself and is lead...   \n",
       "7       1  BJ Penn paid him that much and Dolce didnt do ...   \n",
       "8       0  I've said multiple times that I could stay san...   \n",
       "9       1         But but... lane splitting is the safest...   \n",
       "10      0                                              10/10   \n",
       "11      0  lmao it started at apple store.... because it'...   \n",
       "12      1  They are going to make a profit with vehicle b...   \n",
       "13      0            hasn't Chicago suffered enough already?   \n",
       "14      1  He's a man though so women are allowed to hit ...   \n",
       "15      0                       And the Monster Energy logo.   \n",
       "16      1  I've never, ever, ever, seen a 2.0 shipping de...   \n",
       "17      1                       Wow would never have guessed   \n",
       "18      0                                                Yes   \n",
       "19      1             Oh that is just what the USA needs now   \n",
       "\n",
       "                 author            subreddit  score  ups  downs     date  \\\n",
       "0             Xensphere      leagueoflegends      1    1      0  2012-10   \n",
       "1            cjandstuff            cablefail      1    1      0  2016-04   \n",
       "2           ThatOneFace  raisedbynarcissists      2    2      0  2015-05   \n",
       "3             KeeganKGB      leagueoflegends      2    2      0  2015-07   \n",
       "4          FattyMcPatty    againstmensrights     24   24      0  2015-07   \n",
       "5          the_sam_ryan      personalfinance      2    2      0  2015-02   \n",
       "6           tomanonimos          nottheonion      0    0      0  2016-03   \n",
       "7      thearsonistsaint                  MMA      2    2      0  2015-07   \n",
       "8   Puritan_Sensibility            AskReddit      2   -1     -1  2016-10   \n",
       "9    highspeed_lowdrag2          JusticePorn      0    0      0  2015-02   \n",
       "10        TheKinkMaster          forearmporn      4    4      0  2015-07   \n",
       "11        JonasBrosSuck         KimmySchmidt      9    9      0  2016-04   \n",
       "12             d2_ricci                  Amd     23   23      0  2016-04   \n",
       "13         schmeebasaur                  MLS      1   -1     -1  2016-10   \n",
       "14       Texas_sniper41               videos    122  122      0  2015-10   \n",
       "15   DeathWalkingTerror                 cars      1    1      0  2015-01   \n",
       "16              ranhalt              soylent      1   -1     -1  2016-11   \n",
       "17        YayScience120           psychology      1    1      0  2016-09   \n",
       "18              Leafs17              xboxone      1    1      0  2016-09   \n",
       "19   monkeybonerinmouth             politics      2   -1     -1  2016-11   \n",
       "\n",
       "            created_utc                                     parent_comment  \n",
       "0   2012-10-20 07:50:23  I was actually happy with the new turret attac...  \n",
       "1   2016-04-12 16:31:27  Walked into a site to do some installs and see...  \n",
       "2   2015-05-30 12:59:55  Losing someone does not make you a bad person....  \n",
       "3   2015-07-11 22:40:18  Why TSM (or any NA team) will have NO chance a...  \n",
       "4   2015-07-18 20:30:22  In a post titled \"#ShootAFeministInTheFace\", J...  \n",
       "5   2015-02-02 18:05:36  Yeah being short on money things like snacks a...  \n",
       "6   2016-03-16 21:12:20          Trump: I consult myself on foreign policy  \n",
       "7   2015-07-07 01:03:12  Hmm I'm not sure about Ronda, she uses Mike Do...  \n",
       "8   2016-10-26 17:09:56  I don't do that specifically, but I'm definite...  \n",
       "9   2015-02-20 20:32:56  Motorcyclist receives justice for driving reck...  \n",
       "10  2015-07-22 09:03:59           So I didn't know this sub was a thing...  \n",
       "11  2016-04-16 19:26:01  Episode Discussion: S02E04 \"Kimmy Kidnaps Gret...  \n",
       "12  2016-04-14 02:24:27  I don't know what they are gonna do, they need...  \n",
       "13  2016-10-29 04:36:32  Sure. Let him score 15 goals for Chicago or Ph...  \n",
       "14  2015-10-07 01:30:13  Obviously the actions of a few individuals isn...  \n",
       "15  2015-01-08 22:48:21                                           And Fox.  \n",
       "16  2016-11-12 02:15:56  2.0 Shipping delays? I haven't heard anything ...  \n",
       "17  2016-09-28 19:43:43                Candid communication grows on trust  \n",
       "18  2016-09-19 12:28:42  so you're saying if you sit 5 ft. or less it's...  \n",
       "19  2016-11-15 01:29:57            He is an old, crazy war hungry bastard.  "
      ]
     },
     "execution_count": 4,
     "metadata": {},
     "output_type": "execute_result"
    }
   ],
   "source": [
    "df_shuffled = df.sample(frac=1).reset_index(drop=True)\n",
    "df_shuffled.head(20)"
   ]
  },
  {
   "cell_type": "markdown",
   "id": "54c0c2a2",
   "metadata": {
    "papermill": {
     "duration": 0.012154,
     "end_time": "2023-08-02T16:18:26.938662",
     "exception": false,
     "start_time": "2023-08-02T16:18:26.926508",
     "status": "completed"
    },
    "tags": []
   },
   "source": [
    "Lets filter the csv and drop the unwarranted columns and retain only the sarcastic labels.."
   ]
  },
  {
   "cell_type": "code",
   "execution_count": 5,
   "id": "d2d31c60",
   "metadata": {
    "execution": {
     "iopub.execute_input": "2023-08-02T16:18:26.965259Z",
     "iopub.status.busy": "2023-08-02T16:18:26.964422Z",
     "iopub.status.idle": "2023-08-02T16:18:27.045547Z",
     "shell.execute_reply": "2023-08-02T16:18:27.044641Z"
    },
    "papermill": {
     "duration": 0.096542,
     "end_time": "2023-08-02T16:18:27.047600",
     "exception": false,
     "start_time": "2023-08-02T16:18:26.951058",
     "status": "completed"
    },
    "tags": []
   },
   "outputs": [
    {
     "data": {
      "text/html": [
       "<div>\n",
       "<style scoped>\n",
       "    .dataframe tbody tr th:only-of-type {\n",
       "        vertical-align: middle;\n",
       "    }\n",
       "\n",
       "    .dataframe tbody tr th {\n",
       "        vertical-align: top;\n",
       "    }\n",
       "\n",
       "    .dataframe thead th {\n",
       "        text-align: right;\n",
       "    }\n",
       "</style>\n",
       "<table border=\"1\" class=\"dataframe\">\n",
       "  <thead>\n",
       "    <tr style=\"text-align: right;\">\n",
       "      <th></th>\n",
       "      <th>label</th>\n",
       "      <th>comment</th>\n",
       "      <th>author</th>\n",
       "      <th>subreddit</th>\n",
       "      <th>score</th>\n",
       "      <th>ups</th>\n",
       "      <th>downs</th>\n",
       "      <th>date</th>\n",
       "      <th>created_utc</th>\n",
       "      <th>parent_comment</th>\n",
       "    </tr>\n",
       "  </thead>\n",
       "  <tbody>\n",
       "    <tr>\n",
       "      <th>33</th>\n",
       "      <td>1</td>\n",
       "      <td>But they'll have all those reviews!</td>\n",
       "      <td>RoguishPoppet</td>\n",
       "      <td>ProductTesting</td>\n",
       "      <td>0</td>\n",
       "      <td>-1</td>\n",
       "      <td>-1</td>\n",
       "      <td>2016-11</td>\n",
       "      <td>2016-11-01 02:04:59</td>\n",
       "      <td>The dumb thing is, they are risking their sell...</td>\n",
       "    </tr>\n",
       "    <tr>\n",
       "      <th>44</th>\n",
       "      <td>1</td>\n",
       "      <td>wow it is totally unreasonable to assume that ...</td>\n",
       "      <td>pb2crazy</td>\n",
       "      <td>politics</td>\n",
       "      <td>2</td>\n",
       "      <td>-1</td>\n",
       "      <td>-1</td>\n",
       "      <td>2016-11</td>\n",
       "      <td>2016-11-01 02:42:11</td>\n",
       "      <td>Clinton campaign accuses FBI of 'blatant doubl...</td>\n",
       "    </tr>\n",
       "    <tr>\n",
       "      <th>45</th>\n",
       "      <td>1</td>\n",
       "      <td>Ho ho ho... But Melania said that there is no ...</td>\n",
       "      <td>pb2crazy</td>\n",
       "      <td>politics</td>\n",
       "      <td>8</td>\n",
       "      <td>-1</td>\n",
       "      <td>-1</td>\n",
       "      <td>2016-10</td>\n",
       "      <td>2016-10-18 16:20:53</td>\n",
       "      <td>Anyone else think that it was interesting the ...</td>\n",
       "    </tr>\n",
       "    <tr>\n",
       "      <th>66</th>\n",
       "      <td>1</td>\n",
       "      <td>I can't wait until @potus starts a twitter war...</td>\n",
       "      <td>kitduncan</td>\n",
       "      <td>politics</td>\n",
       "      <td>3</td>\n",
       "      <td>-1</td>\n",
       "      <td>-1</td>\n",
       "      <td>2016-11</td>\n",
       "      <td>2016-11-01 03:22:33</td>\n",
       "      <td>Here's what happens when Obama gives up his Tw...</td>\n",
       "    </tr>\n",
       "    <tr>\n",
       "      <th>69</th>\n",
       "      <td>1</td>\n",
       "      <td>gotta love the teachers who give exams on the ...</td>\n",
       "      <td>DEP61</td>\n",
       "      <td>CFBOffTopic</td>\n",
       "      <td>3</td>\n",
       "      <td>-1</td>\n",
       "      <td>-1</td>\n",
       "      <td>2016-11</td>\n",
       "      <td>2016-11-01 03:30:11</td>\n",
       "      <td>Monday night Drinking thread Brought to You by...</td>\n",
       "    </tr>\n",
       "    <tr>\n",
       "      <th>74</th>\n",
       "      <td>1</td>\n",
       "      <td>Hoiberg said \"great players\", not Dwight</td>\n",
       "      <td>deezee72</td>\n",
       "      <td>nba</td>\n",
       "      <td>29</td>\n",
       "      <td>-1</td>\n",
       "      <td>-1</td>\n",
       "      <td>2016-11</td>\n",
       "      <td>2016-11-01 03:45:25</td>\n",
       "      <td>except the 2012 lakers</td>\n",
       "    </tr>\n",
       "    <tr>\n",
       "      <th>76</th>\n",
       "      <td>1</td>\n",
       "      <td>Oh, I never realized it was so easy, why had I...</td>\n",
       "      <td>SatanicBeaver</td>\n",
       "      <td>AskReddit</td>\n",
       "      <td>1</td>\n",
       "      <td>-1</td>\n",
       "      <td>-1</td>\n",
       "      <td>2016-11</td>\n",
       "      <td>2016-11-01 03:51:16</td>\n",
       "      <td>A little self lovin can turn that 99 into a 10...</td>\n",
       "    </tr>\n",
       "    <tr>\n",
       "      <th>160</th>\n",
       "      <td>1</td>\n",
       "      <td>Exactly, no reason whatsoever.</td>\n",
       "      <td>Bifi323</td>\n",
       "      <td>oddlysatisfying</td>\n",
       "      <td>1</td>\n",
       "      <td>-1</td>\n",
       "      <td>-1</td>\n",
       "      <td>2016-11</td>\n",
       "      <td>2016-11-01 09:59:54</td>\n",
       "      <td>To make predators think they're poisonous?</td>\n",
       "    </tr>\n",
       "    <tr>\n",
       "      <th>169</th>\n",
       "      <td>1</td>\n",
       "      <td>Hank would have a great time in the Legends of...</td>\n",
       "      <td>CIearMind</td>\n",
       "      <td>supergirlTV</td>\n",
       "      <td>3</td>\n",
       "      <td>-1</td>\n",
       "      <td>-1</td>\n",
       "      <td>2016-11</td>\n",
       "      <td>2016-11-01 10:23:55</td>\n",
       "      <td>Pretty inconvenient if they landed anywhere pr...</td>\n",
       "    </tr>\n",
       "    <tr>\n",
       "      <th>193</th>\n",
       "      <td>1</td>\n",
       "      <td>I remember reading all of those stories in the...</td>\n",
       "      <td>MiggidyMacDewi</td>\n",
       "      <td>videos</td>\n",
       "      <td>1</td>\n",
       "      <td>-1</td>\n",
       "      <td>-1</td>\n",
       "      <td>2016-11</td>\n",
       "      <td>2016-11-01 12:03:56</td>\n",
       "      <td>You as everyone else are MISSING THE ENTIRE PO...</td>\n",
       "    </tr>\n",
       "  </tbody>\n",
       "</table>\n",
       "</div>"
      ],
      "text/plain": [
       "     label                                            comment          author  \\\n",
       "33       1                But they'll have all those reviews!   RoguishPoppet   \n",
       "44       1  wow it is totally unreasonable to assume that ...        pb2crazy   \n",
       "45       1  Ho ho ho... But Melania said that there is no ...        pb2crazy   \n",
       "66       1  I can't wait until @potus starts a twitter war...       kitduncan   \n",
       "69       1  gotta love the teachers who give exams on the ...           DEP61   \n",
       "74       1           Hoiberg said \"great players\", not Dwight        deezee72   \n",
       "76       1  Oh, I never realized it was so easy, why had I...   SatanicBeaver   \n",
       "160      1                     Exactly, no reason whatsoever.         Bifi323   \n",
       "169      1  Hank would have a great time in the Legends of...       CIearMind   \n",
       "193      1  I remember reading all of those stories in the...  MiggidyMacDewi   \n",
       "\n",
       "           subreddit  score  ups  downs     date          created_utc  \\\n",
       "33    ProductTesting      0   -1     -1  2016-11  2016-11-01 02:04:59   \n",
       "44          politics      2   -1     -1  2016-11  2016-11-01 02:42:11   \n",
       "45          politics      8   -1     -1  2016-10  2016-10-18 16:20:53   \n",
       "66          politics      3   -1     -1  2016-11  2016-11-01 03:22:33   \n",
       "69       CFBOffTopic      3   -1     -1  2016-11  2016-11-01 03:30:11   \n",
       "74               nba     29   -1     -1  2016-11  2016-11-01 03:45:25   \n",
       "76         AskReddit      1   -1     -1  2016-11  2016-11-01 03:51:16   \n",
       "160  oddlysatisfying      1   -1     -1  2016-11  2016-11-01 09:59:54   \n",
       "169      supergirlTV      3   -1     -1  2016-11  2016-11-01 10:23:55   \n",
       "193           videos      1   -1     -1  2016-11  2016-11-01 12:03:56   \n",
       "\n",
       "                                        parent_comment  \n",
       "33   The dumb thing is, they are risking their sell...  \n",
       "44   Clinton campaign accuses FBI of 'blatant doubl...  \n",
       "45   Anyone else think that it was interesting the ...  \n",
       "66   Here's what happens when Obama gives up his Tw...  \n",
       "69   Monday night Drinking thread Brought to You by...  \n",
       "74                              except the 2012 lakers  \n",
       "76   A little self lovin can turn that 99 into a 10...  \n",
       "160         To make predators think they're poisonous?  \n",
       "169  Pretty inconvenient if they landed anywhere pr...  \n",
       "193  You as everyone else are MISSING THE ENTIRE PO...  "
      ]
     },
     "execution_count": 5,
     "metadata": {},
     "output_type": "execute_result"
    }
   ],
   "source": [
    "df_filtered = df[df['label'] == 1]\n",
    "df_filtered.head(10)"
   ]
  },
  {
   "cell_type": "code",
   "execution_count": 6,
   "id": "759ca11a",
   "metadata": {
    "execution": {
     "iopub.execute_input": "2023-08-02T16:18:27.076095Z",
     "iopub.status.busy": "2023-08-02T16:18:27.074476Z",
     "iopub.status.idle": "2023-08-02T16:18:27.089872Z",
     "shell.execute_reply": "2023-08-02T16:18:27.088869Z"
    },
    "papermill": {
     "duration": 0.031104,
     "end_time": "2023-08-02T16:18:27.091946",
     "exception": false,
     "start_time": "2023-08-02T16:18:27.060842",
     "status": "completed"
    },
    "tags": []
   },
   "outputs": [],
   "source": [
    "texts = df_filtered['comment'].tolist()\n"
   ]
  },
  {
   "cell_type": "code",
   "execution_count": 7,
   "id": "dcca0348",
   "metadata": {
    "execution": {
     "iopub.execute_input": "2023-08-02T16:18:27.118959Z",
     "iopub.status.busy": "2023-08-02T16:18:27.118388Z",
     "iopub.status.idle": "2023-08-02T16:18:27.124641Z",
     "shell.execute_reply": "2023-08-02T16:18:27.123721Z"
    },
    "papermill": {
     "duration": 0.021944,
     "end_time": "2023-08-02T16:18:27.126745",
     "exception": false,
     "start_time": "2023-08-02T16:18:27.104801",
     "status": "completed"
    },
    "tags": []
   },
   "outputs": [
    {
     "data": {
      "text/plain": [
       "list"
      ]
     },
     "execution_count": 7,
     "metadata": {},
     "output_type": "execute_result"
    }
   ],
   "source": [
    "type(texts)"
   ]
  },
  {
   "cell_type": "code",
   "execution_count": 8,
   "id": "4725f54c",
   "metadata": {
    "execution": {
     "iopub.execute_input": "2023-08-02T16:18:27.153534Z",
     "iopub.status.busy": "2023-08-02T16:18:27.153284Z",
     "iopub.status.idle": "2023-08-02T16:18:35.002180Z",
     "shell.execute_reply": "2023-08-02T16:18:35.001213Z"
    },
    "papermill": {
     "duration": 7.865233,
     "end_time": "2023-08-02T16:18:35.004555",
     "exception": false,
     "start_time": "2023-08-02T16:18:27.139322",
     "status": "completed"
    },
    "tags": []
   },
   "outputs": [],
   "source": [
    "df_filtered.to_csv('sample1.txt', sep='\\t', index=False, header=False)"
   ]
  },
  {
   "cell_type": "code",
   "execution_count": 9,
   "id": "6fe18e34",
   "metadata": {
    "execution": {
     "iopub.execute_input": "2023-08-02T16:18:35.031842Z",
     "iopub.status.busy": "2023-08-02T16:18:35.031541Z",
     "iopub.status.idle": "2023-08-02T16:18:35.246571Z",
     "shell.execute_reply": "2023-08-02T16:18:35.245625Z"
    },
    "papermill": {
     "duration": 0.231282,
     "end_time": "2023-08-02T16:18:35.248887",
     "exception": false,
     "start_time": "2023-08-02T16:18:35.017605",
     "status": "completed"
    },
    "tags": []
   },
   "outputs": [],
   "source": [
    "with open('sample.txt', 'w') as f:\n",
    "    # Write each item in the list to a new line in the file\n",
    "    for item in texts:\n",
    "        f.write(\"%s\\n\" % item)"
   ]
  },
  {
   "cell_type": "code",
   "execution_count": 10,
   "id": "77b4c215",
   "metadata": {
    "execution": {
     "iopub.execute_input": "2023-08-02T16:18:35.276035Z",
     "iopub.status.busy": "2023-08-02T16:18:35.275584Z",
     "iopub.status.idle": "2023-08-02T16:18:35.279662Z",
     "shell.execute_reply": "2023-08-02T16:18:35.278742Z"
    },
    "papermill": {
     "duration": 0.019762,
     "end_time": "2023-08-02T16:18:35.281838",
     "exception": false,
     "start_time": "2023-08-02T16:18:35.262076",
     "status": "completed"
    },
    "tags": []
   },
   "outputs": [],
   "source": [
    "txt_path = \"/kaggle/working/sample.txt\""
   ]
  },
  {
   "cell_type": "code",
   "execution_count": 11,
   "id": "b5604641",
   "metadata": {
    "execution": {
     "iopub.execute_input": "2023-08-02T16:18:35.309168Z",
     "iopub.status.busy": "2023-08-02T16:18:35.308383Z",
     "iopub.status.idle": "2023-08-02T16:18:35.349937Z",
     "shell.execute_reply": "2023-08-02T16:18:35.349037Z"
    },
    "papermill": {
     "duration": 0.057616,
     "end_time": "2023-08-02T16:18:35.352274",
     "exception": false,
     "start_time": "2023-08-02T16:18:35.294658",
     "status": "completed"
    },
    "tags": []
   },
   "outputs": [],
   "source": [
    "with open(txt_path, 'r',encoding='utf-8') as f:\n",
    "    text = f.read()"
   ]
  },
  {
   "cell_type": "code",
   "execution_count": 12,
   "id": "5f9e4b4e",
   "metadata": {
    "execution": {
     "iopub.execute_input": "2023-08-02T16:18:35.379848Z",
     "iopub.status.busy": "2023-08-02T16:18:35.379206Z",
     "iopub.status.idle": "2023-08-02T16:18:35.384458Z",
     "shell.execute_reply": "2023-08-02T16:18:35.383612Z"
    },
    "papermill": {
     "duration": 0.021106,
     "end_time": "2023-08-02T16:18:35.386566",
     "exception": false,
     "start_time": "2023-08-02T16:18:35.365460",
     "status": "completed"
    },
    "tags": []
   },
   "outputs": [
    {
     "name": "stdout",
     "output_type": "stream",
     "text": [
      "length of the dataset in characters:  29033476\n"
     ]
    }
   ],
   "source": [
    "print(\"length of the dataset in characters: \", len(text))"
   ]
  },
  {
   "cell_type": "code",
   "execution_count": 13,
   "id": "9601ef07",
   "metadata": {
    "execution": {
     "iopub.execute_input": "2023-08-02T16:18:35.414455Z",
     "iopub.status.busy": "2023-08-02T16:18:35.413110Z",
     "iopub.status.idle": "2023-08-02T16:18:35.418357Z",
     "shell.execute_reply": "2023-08-02T16:18:35.417462Z"
    },
    "papermill": {
     "duration": 0.021265,
     "end_time": "2023-08-02T16:18:35.420433",
     "exception": false,
     "start_time": "2023-08-02T16:18:35.399168",
     "status": "completed"
    },
    "tags": []
   },
   "outputs": [
    {
     "name": "stdout",
     "output_type": "stream",
     "text": [
      "But they'll have all those reviews!\n",
      "wow it is totally unreasonable to assume that the agency that covered up Bush war crimes because \"muh republican party\" would be partisan as fuck\n",
      "Ho ho ho... But Melania said that there is no way it could have happened because she didn't know the woman!\n",
      "I can't wait until @potus starts a twitter war against Morning Joe.\n",
      "gotta love the teachers who give exams on the day after halloween\n",
      "Hoiberg said \"great players\", not Dwight\n",
      "Oh, I never realized it was so easy, why had I, and every other lonely person on earth never thought of that before?\n",
      "Exactly, no reason whatsoever.\n",
      "Hank would have a great time in the Legends of Tomorrow.\n",
      "I remember reading all of those stories in the news about riot police marching into the Volvo head offices with truncheons and beating the designers until they invented the seatbelt.\n",
      "can't watch it and get into heaven son, that's stealing :(\n",
      "Yeah, those kids who can't eat peanuts without dying or milk without diarrhea, or the ra\n"
     ]
    }
   ],
   "source": [
    "print(text[:1000])"
   ]
  },
  {
   "cell_type": "code",
   "execution_count": 14,
   "id": "5eb81436",
   "metadata": {
    "execution": {
     "iopub.execute_input": "2023-08-02T16:18:35.447538Z",
     "iopub.status.busy": "2023-08-02T16:18:35.447010Z",
     "iopub.status.idle": "2023-08-02T16:18:35.833071Z",
     "shell.execute_reply": "2023-08-02T16:18:35.831751Z"
    },
    "papermill": {
     "duration": 0.402084,
     "end_time": "2023-08-02T16:18:35.835339",
     "exception": false,
     "start_time": "2023-08-02T16:18:35.433255",
     "status": "completed"
    },
    "tags": []
   },
   "outputs": [
    {
     "name": "stdout",
     "output_type": "stream",
     "text": [
      "\b\n",
      " !\"#$%&'()*+,-./0123456789:;=?@ABCDEFGHIJKLMNOPQRSTUVWXYZ[\\]^_`abcdefghijklmnopqrstuvwxyz{|}~\n",
      "95\n"
     ]
    }
   ],
   "source": [
    "chars = sorted(list(set(text)))\n",
    "vocab_size = len(chars)\n",
    "print(''.join(chars))\n",
    "print(vocab_size)"
   ]
  },
  {
   "cell_type": "code",
   "execution_count": 15,
   "id": "ad3962ce",
   "metadata": {
    "execution": {
     "iopub.execute_input": "2023-08-02T16:18:35.863532Z",
     "iopub.status.busy": "2023-08-02T16:18:35.863238Z",
     "iopub.status.idle": "2023-08-02T16:18:35.869933Z",
     "shell.execute_reply": "2023-08-02T16:18:35.869062Z"
    },
    "papermill": {
     "duration": 0.022934,
     "end_time": "2023-08-02T16:18:35.872037",
     "exception": false,
     "start_time": "2023-08-02T16:18:35.849103",
     "status": "completed"
    },
    "tags": []
   },
   "outputs": [
    {
     "name": "stdout",
     "output_type": "stream",
     "text": [
      "[72, 73, 73, 2, 84, 72, 69, 82, 69]\n",
      "hii there\n"
     ]
    }
   ],
   "source": [
    "\n",
    "\n",
    "# create a mapping from characters to integers\n",
    "stoi = { ch:i for i,ch in enumerate(chars) }\n",
    "itos = { i:ch for i,ch in enumerate(chars) }\n",
    "encode = lambda s: [stoi[c] for c in s] # encoder: take a string, output a list of integers\n",
    "decode = lambda l: ''.join([itos[i] for i in l]) # decoder: take a list of integers, output a string\n",
    "\n",
    "print(encode(\"hii there\"))\n",
    "print(decode(encode(\"hii there\")))\n",
    "\n"
   ]
  },
  {
   "cell_type": "code",
   "execution_count": 16,
   "id": "b64f260d",
   "metadata": {
    "execution": {
     "iopub.execute_input": "2023-08-02T16:18:35.899775Z",
     "iopub.status.busy": "2023-08-02T16:18:35.899014Z",
     "iopub.status.idle": "2023-08-02T16:18:45.673710Z",
     "shell.execute_reply": "2023-08-02T16:18:45.672733Z"
    },
    "papermill": {
     "duration": 9.791183,
     "end_time": "2023-08-02T16:18:45.676352",
     "exception": false,
     "start_time": "2023-08-02T16:18:35.885169",
     "status": "completed"
    },
    "tags": []
   },
   "outputs": [
    {
     "name": "stdout",
     "output_type": "stream",
     "text": [
      "torch.Size([29033476]) torch.int64\n",
      "tensor([34, 85, 84,  2, 84, 72, 69, 89,  9, 76, 76,  2, 72, 65, 86, 69,  2, 65,\n",
      "        76, 76,  2, 84, 72, 79, 83, 69,  2, 82, 69, 86, 73, 69, 87, 83,  3,  1,\n",
      "        87, 79, 87,  2, 73, 84,  2, 73, 83,  2, 84, 79, 84, 65, 76, 76, 89,  2,\n",
      "        85, 78, 82, 69, 65, 83, 79, 78, 65, 66, 76, 69,  2, 84, 79,  2, 65, 83,\n",
      "        83, 85, 77, 69,  2, 84, 72, 65, 84,  2, 84, 72, 69,  2, 65, 71, 69, 78,\n",
      "        67, 89,  2, 84, 72, 65, 84,  2, 67, 79, 86, 69, 82, 69, 68,  2, 85, 80,\n",
      "         2, 34, 85, 83, 72,  2, 87, 65, 82,  2, 67, 82, 73, 77, 69, 83,  2, 66,\n",
      "        69, 67, 65, 85, 83, 69,  2,  4, 77, 85, 72,  2, 82, 69, 80, 85, 66, 76,\n",
      "        73, 67, 65, 78,  2, 80, 65, 82, 84, 89,  4,  2, 87, 79, 85, 76, 68,  2,\n",
      "        66, 69,  2, 80, 65, 82, 84, 73, 83, 65, 78,  2, 65, 83,  2, 70, 85, 67,\n",
      "        75,  1, 40, 79,  2, 72, 79,  2, 72, 79, 16, 16, 16,  2, 34, 85, 84,  2,\n",
      "        45, 69, 76, 65, 78, 73, 65,  2, 83, 65, 73, 68,  2, 84, 72, 65, 84,  2,\n",
      "        84, 72, 69, 82, 69,  2, 73, 83,  2, 78, 79,  2, 87, 65, 89,  2, 73, 84,\n",
      "         2, 67, 79, 85, 76, 68,  2, 72, 65, 86, 69,  2, 72, 65, 80, 80, 69, 78,\n",
      "        69, 68,  2, 66, 69, 67, 65, 85, 83, 69,  2, 83, 72, 69,  2, 68, 73, 68,\n",
      "        78,  9, 84,  2, 75, 78, 79, 87,  2, 84, 72, 69,  2, 87, 79, 77, 65, 78,\n",
      "         3,  1, 41,  2, 67, 65, 78,  9, 84,  2, 87, 65, 73, 84,  2, 85, 78, 84,\n",
      "        73, 76,  2, 32, 80, 79, 84, 85, 83,  2, 83, 84, 65, 82, 84, 83,  2, 65,\n",
      "         2, 84, 87, 73, 84, 84, 69, 82,  2, 87, 65, 82,  2, 65, 71, 65, 73, 78,\n",
      "        83, 84,  2, 45, 79, 82, 78, 73, 78, 71,  2, 42, 79, 69, 16,  1, 71, 79,\n",
      "        84, 84, 65,  2, 76, 79, 86, 69,  2, 84, 72, 69,  2, 84, 69, 65, 67, 72,\n",
      "        69, 82, 83,  2, 87, 72, 79,  2, 71, 73, 86, 69,  2, 69, 88, 65, 77, 83,\n",
      "         2, 79, 78,  2, 84, 72, 69,  2, 68, 65, 89,  2, 65, 70, 84, 69, 82,  2,\n",
      "        72, 65, 76, 76, 79, 87, 69, 69, 78,  1, 40, 79, 73, 66, 69, 82, 71,  2,\n",
      "        83, 65, 73, 68,  2,  4, 71, 82, 69, 65, 84,  2, 80, 76, 65, 89, 69, 82,\n",
      "        83,  4, 14,  2, 78, 79, 84,  2, 36, 87, 73, 71, 72, 84,  1, 47, 72, 14,\n",
      "         2, 41,  2, 78, 69, 86, 69, 82,  2, 82, 69, 65, 76, 73, 90, 69, 68,  2,\n",
      "        73, 84,  2, 87, 65, 83,  2, 83, 79,  2, 69, 65, 83, 89, 14,  2, 87, 72,\n",
      "        89,  2, 72, 65, 68,  2, 41, 14,  2, 65, 78, 68,  2, 69, 86, 69, 82, 89,\n",
      "         2, 79, 84, 72, 69, 82,  2, 76, 79, 78, 69, 76, 89,  2, 80, 69, 82, 83,\n",
      "        79, 78,  2, 79, 78,  2, 69, 65, 82, 84, 72,  2, 78, 69, 86, 69, 82,  2,\n",
      "        84, 72, 79, 85, 71, 72, 84,  2, 79, 70,  2, 84, 72, 65, 84,  2, 66, 69,\n",
      "        70, 79, 82, 69, 31,  1, 37, 88, 65, 67, 84, 76, 89, 14,  2, 78, 79,  2,\n",
      "        82, 69, 65, 83, 79, 78,  2, 87, 72, 65, 84, 83, 79, 69, 86, 69, 82, 16,\n",
      "         1, 40, 65, 78, 75,  2, 87, 79, 85, 76, 68,  2, 72, 65, 86, 69,  2, 65,\n",
      "         2, 71, 82, 69, 65, 84,  2, 84, 73, 77, 69,  2, 73, 78,  2, 84, 72, 69,\n",
      "         2, 44, 69, 71, 69, 78, 68, 83,  2, 79, 70,  2, 52, 79, 77, 79, 82, 82,\n",
      "        79, 87, 16,  1, 41,  2, 82, 69, 77, 69, 77, 66, 69, 82,  2, 82, 69, 65,\n",
      "        68, 73, 78, 71,  2, 65, 76, 76,  2, 79, 70,  2, 84, 72, 79, 83, 69,  2,\n",
      "        83, 84, 79, 82, 73, 69, 83,  2, 73, 78,  2, 84, 72, 69,  2, 78, 69, 87,\n",
      "        83,  2, 65, 66, 79, 85, 84,  2, 82, 73, 79, 84,  2, 80, 79, 76, 73, 67,\n",
      "        69,  2, 77, 65, 82, 67, 72, 73, 78, 71,  2, 73, 78, 84, 79,  2, 84, 72,\n",
      "        69,  2, 54, 79, 76, 86, 79,  2, 72, 69, 65, 68,  2, 79, 70, 70, 73, 67,\n",
      "        69, 83,  2, 87, 73, 84, 72,  2, 84, 82, 85, 78, 67, 72, 69, 79, 78, 83,\n",
      "         2, 65, 78, 68,  2, 66, 69, 65, 84, 73, 78, 71,  2, 84, 72, 69,  2, 68,\n",
      "        69, 83, 73, 71, 78, 69, 82, 83,  2, 85, 78, 84, 73, 76,  2, 84, 72, 69,\n",
      "        89,  2, 73, 78, 86, 69, 78, 84, 69, 68,  2, 84, 72, 69,  2, 83, 69, 65,\n",
      "        84, 66, 69, 76, 84, 16,  1, 67, 65, 78,  9, 84,  2, 87, 65, 84, 67, 72,\n",
      "         2, 73, 84,  2, 65, 78, 68,  2, 71, 69, 84,  2, 73, 78, 84, 79,  2, 72,\n",
      "        69, 65, 86, 69, 78,  2, 83, 79, 78, 14,  2, 84, 72, 65, 84,  9, 83,  2,\n",
      "        83, 84, 69, 65, 76, 73, 78, 71,  2, 28, 10,  1, 57, 69, 65, 72, 14,  2,\n",
      "        84, 72, 79, 83, 69,  2, 75, 73, 68, 83,  2, 87, 72, 79,  2, 67, 65, 78,\n",
      "         9, 84,  2, 69, 65, 84,  2, 80, 69, 65, 78, 85, 84, 83,  2, 87, 73, 84,\n",
      "        72, 79, 85, 84,  2, 68, 89, 73, 78, 71,  2, 79, 82,  2, 77, 73, 76, 75,\n",
      "         2, 87, 73, 84, 72, 79, 85, 84,  2, 68, 73, 65, 82, 82, 72, 69, 65, 14,\n",
      "         2, 79, 82,  2, 84, 72, 69,  2, 82, 65])\n"
     ]
    }
   ],
   "source": [
    "# let's now encode the entire text dataset and store it into a torch.Tensor\n",
    "import torch # we use PyTorch: https://pytorch.org\n",
    "data = torch.tensor(encode(text), dtype=torch.long)\n",
    "print(data.shape, data.dtype)\n",
    "print(data[:1000]) # the 1000 characters we looked at earier will to the GPT look like this"
   ]
  },
  {
   "cell_type": "code",
   "execution_count": 17,
   "id": "c5eec746",
   "metadata": {
    "execution": {
     "iopub.execute_input": "2023-08-02T16:18:45.704804Z",
     "iopub.status.busy": "2023-08-02T16:18:45.704263Z",
     "iopub.status.idle": "2023-08-02T16:18:45.709293Z",
     "shell.execute_reply": "2023-08-02T16:18:45.708273Z"
    },
    "papermill": {
     "duration": 0.021542,
     "end_time": "2023-08-02T16:18:45.711299",
     "exception": false,
     "start_time": "2023-08-02T16:18:45.689757",
     "status": "completed"
    },
    "tags": []
   },
   "outputs": [],
   "source": [
    "n = int(0.9*len(data)) # first 90% will be train, rest val\n",
    "train_data = data[:n]\n",
    "val_data = data[n:]"
   ]
  },
  {
   "cell_type": "code",
   "execution_count": 18,
   "id": "50cb7cc9",
   "metadata": {
    "execution": {
     "iopub.execute_input": "2023-08-02T16:18:45.742161Z",
     "iopub.status.busy": "2023-08-02T16:18:45.741255Z",
     "iopub.status.idle": "2023-08-02T16:18:45.748196Z",
     "shell.execute_reply": "2023-08-02T16:18:45.747201Z"
    },
    "papermill": {
     "duration": 0.024134,
     "end_time": "2023-08-02T16:18:45.750346",
     "exception": false,
     "start_time": "2023-08-02T16:18:45.726212",
     "status": "completed"
    },
    "tags": []
   },
   "outputs": [
    {
     "data": {
      "text/plain": [
       "tensor([34, 85, 84,  2, 84, 72, 69, 89,  9])"
      ]
     },
     "execution_count": 18,
     "metadata": {},
     "output_type": "execute_result"
    }
   ],
   "source": [
    "\n",
    "\n",
    "block_size = 8\n",
    "train_data[:block_size+1]\n",
    "\n"
   ]
  },
  {
   "cell_type": "code",
   "execution_count": 19,
   "id": "ac5e25d3",
   "metadata": {
    "execution": {
     "iopub.execute_input": "2023-08-02T16:18:45.778052Z",
     "iopub.status.busy": "2023-08-02T16:18:45.777781Z",
     "iopub.status.idle": "2023-08-02T16:18:45.787547Z",
     "shell.execute_reply": "2023-08-02T16:18:45.786556Z"
    },
    "papermill": {
     "duration": 0.026498,
     "end_time": "2023-08-02T16:18:45.789996",
     "exception": false,
     "start_time": "2023-08-02T16:18:45.763498",
     "status": "completed"
    },
    "tags": []
   },
   "outputs": [
    {
     "name": "stdout",
     "output_type": "stream",
     "text": [
      "when input is tensor([34]) the target: 85\n",
      "when input is tensor([34, 85]) the target: 84\n",
      "when input is tensor([34, 85, 84]) the target: 2\n",
      "when input is tensor([34, 85, 84,  2]) the target: 84\n",
      "when input is tensor([34, 85, 84,  2, 84]) the target: 72\n",
      "when input is tensor([34, 85, 84,  2, 84, 72]) the target: 69\n",
      "when input is tensor([34, 85, 84,  2, 84, 72, 69]) the target: 89\n",
      "when input is tensor([34, 85, 84,  2, 84, 72, 69, 89]) the target: 9\n"
     ]
    }
   ],
   "source": [
    "x = train_data[:block_size]\n",
    "y = train_data[1:block_size+1]\n",
    "for t in range(block_size):\n",
    "    context = x[:t+1]\n",
    "    target = y[t]\n",
    "    print(f\"when input is {context} the target: {target}\")"
   ]
  },
  {
   "cell_type": "code",
   "execution_count": 20,
   "id": "835b818a",
   "metadata": {
    "execution": {
     "iopub.execute_input": "2023-08-02T16:18:45.817894Z",
     "iopub.status.busy": "2023-08-02T16:18:45.817603Z",
     "iopub.status.idle": "2023-08-02T16:18:45.853993Z",
     "shell.execute_reply": "2023-08-02T16:18:45.852818Z"
    },
    "papermill": {
     "duration": 0.052817,
     "end_time": "2023-08-02T16:18:45.855997",
     "exception": false,
     "start_time": "2023-08-02T16:18:45.803180",
     "status": "completed"
    },
    "tags": []
   },
   "outputs": [
    {
     "name": "stdout",
     "output_type": "stream",
     "text": [
      "inputs:\n",
      "torch.Size([4, 8])\n",
      "tensor([[76, 69,  2, 66, 73, 84, 67, 72],\n",
      "        [78, 79, 84,  2, 68, 85, 77, 66],\n",
      "        [78, 68,  2, 71, 69, 84, 65, 87],\n",
      "        [69,  2, 87, 72, 79,  2, 79, 66]])\n",
      "targets:\n",
      "torch.Size([4, 8])\n",
      "tensor([[69,  2, 66, 73, 84, 67, 72,  2],\n",
      "        [79, 84,  2, 68, 85, 77, 66, 16],\n",
      "        [68,  2, 71, 69, 84, 65, 87, 65],\n",
      "        [ 2, 87, 72, 79,  2, 79, 66, 86]])\n",
      "----\n",
      "when input is [76] the target: 69\n",
      "when input is [76, 69] the target: 2\n",
      "when input is [76, 69, 2] the target: 66\n",
      "when input is [76, 69, 2, 66] the target: 73\n",
      "when input is [76, 69, 2, 66, 73] the target: 84\n",
      "when input is [76, 69, 2, 66, 73, 84] the target: 67\n",
      "when input is [76, 69, 2, 66, 73, 84, 67] the target: 72\n",
      "when input is [76, 69, 2, 66, 73, 84, 67, 72] the target: 2\n",
      "when input is [78] the target: 79\n",
      "when input is [78, 79] the target: 84\n",
      "when input is [78, 79, 84] the target: 2\n",
      "when input is [78, 79, 84, 2] the target: 68\n",
      "when input is [78, 79, 84, 2, 68] the target: 85\n",
      "when input is [78, 79, 84, 2, 68, 85] the target: 77\n",
      "when input is [78, 79, 84, 2, 68, 85, 77] the target: 66\n",
      "when input is [78, 79, 84, 2, 68, 85, 77, 66] the target: 16\n",
      "when input is [78] the target: 68\n",
      "when input is [78, 68] the target: 2\n",
      "when input is [78, 68, 2] the target: 71\n",
      "when input is [78, 68, 2, 71] the target: 69\n",
      "when input is [78, 68, 2, 71, 69] the target: 84\n",
      "when input is [78, 68, 2, 71, 69, 84] the target: 65\n",
      "when input is [78, 68, 2, 71, 69, 84, 65] the target: 87\n",
      "when input is [78, 68, 2, 71, 69, 84, 65, 87] the target: 65\n",
      "when input is [69] the target: 2\n",
      "when input is [69, 2] the target: 87\n",
      "when input is [69, 2, 87] the target: 72\n",
      "when input is [69, 2, 87, 72] the target: 79\n",
      "when input is [69, 2, 87, 72, 79] the target: 2\n",
      "when input is [69, 2, 87, 72, 79, 2] the target: 79\n",
      "when input is [69, 2, 87, 72, 79, 2, 79] the target: 66\n",
      "when input is [69, 2, 87, 72, 79, 2, 79, 66] the target: 86\n"
     ]
    }
   ],
   "source": [
    "torch.manual_seed(1337)\n",
    "batch_size = 4 # how many independent sequences will we process in parallel?\n",
    "block_size = 8 # what is the maximum context length for predictions?\n",
    "\n",
    "def get_batch(split):\n",
    "    # generate a small batch of data of inputs x and targets y\n",
    "    data = train_data if split == 'train' else val_data\n",
    "    ix = torch.randint(len(data) - block_size, (batch_size,))\n",
    "    x = torch.stack([data[i:i+block_size] for i in ix])\n",
    "    y = torch.stack([data[i+1:i+block_size+1] for i in ix])\n",
    "    return x, y\n",
    "\n",
    "xb, yb = get_batch('train')\n",
    "print('inputs:')\n",
    "print(xb.shape)\n",
    "print(xb)\n",
    "print('targets:')\n",
    "print(yb.shape)\n",
    "print(yb)\n",
    "\n",
    "print('----')\n",
    "\n",
    "for b in range(batch_size): # batch dimension\n",
    "    for t in range(block_size): # time dimension\n",
    "        context = xb[b, :t+1]\n",
    "        target = yb[b,t]\n",
    "        print(f\"when input is {context.tolist()} the target: {target}\")"
   ]
  },
  {
   "cell_type": "code",
   "execution_count": 21,
   "id": "7ba62639",
   "metadata": {
    "execution": {
     "iopub.execute_input": "2023-08-02T16:18:45.884529Z",
     "iopub.status.busy": "2023-08-02T16:18:45.883762Z",
     "iopub.status.idle": "2023-08-02T16:18:45.889639Z",
     "shell.execute_reply": "2023-08-02T16:18:45.888770Z"
    },
    "papermill": {
     "duration": 0.022127,
     "end_time": "2023-08-02T16:18:45.891537",
     "exception": false,
     "start_time": "2023-08-02T16:18:45.869410",
     "status": "completed"
    },
    "tags": []
   },
   "outputs": [
    {
     "name": "stdout",
     "output_type": "stream",
     "text": [
      "tensor([[76, 69,  2, 66, 73, 84, 67, 72],\n",
      "        [78, 79, 84,  2, 68, 85, 77, 66],\n",
      "        [78, 68,  2, 71, 69, 84, 65, 87],\n",
      "        [69,  2, 87, 72, 79,  2, 79, 66]])\n"
     ]
    }
   ],
   "source": [
    "print(xb) # our input to the transformer"
   ]
  },
  {
   "cell_type": "code",
   "execution_count": 22,
   "id": "5ff3ae4a",
   "metadata": {
    "execution": {
     "iopub.execute_input": "2023-08-02T16:18:45.920003Z",
     "iopub.status.busy": "2023-08-02T16:18:45.919240Z",
     "iopub.status.idle": "2023-08-02T16:18:46.013059Z",
     "shell.execute_reply": "2023-08-02T16:18:46.011727Z"
    },
    "papermill": {
     "duration": 0.110093,
     "end_time": "2023-08-02T16:18:46.015061",
     "exception": false,
     "start_time": "2023-08-02T16:18:45.904968",
     "status": "completed"
    },
    "tags": []
   },
   "outputs": [
    {
     "name": "stdout",
     "output_type": "stream",
     "text": [
      "torch.Size([32, 95])\n",
      "tensor(5.0575, grad_fn=<NllLossBackward0>)\n",
      "\b?Z4/4=[=(+2a9\n",
      "*p-y\\ei'] 7[YFG!dL\"Ikm4\n",
      "R f[R3l|wwq4K3PNh$LqM{nA&b^/`bFa#pxppn!I%\b1d{l+j{*Wi7\"fAD-9LF0\n"
     ]
    }
   ],
   "source": [
    "import torch\n",
    "import torch.nn as nn\n",
    "from torch.nn import functional as F\n",
    "torch.manual_seed(1337)\n",
    "\n",
    "class BigramLanguageModel(nn.Module):\n",
    "\n",
    "    def __init__(self, vocab_size):\n",
    "        super().__init__()\n",
    "        # each token directly reads off the logits for the next token from a lookup table\n",
    "        self.token_embedding_table = nn.Embedding(vocab_size, vocab_size)\n",
    "\n",
    "    def forward(self, idx, targets=None):\n",
    "\n",
    "        # idx and targets are both (B,T) tensor of integers\n",
    "        logits = self.token_embedding_table(idx) # (B,T,C)\n",
    "\n",
    "        if targets is None:\n",
    "            loss = None\n",
    "        else:\n",
    "            B, T, C = logits.shape\n",
    "            logits = logits.view(B*T, C)\n",
    "            targets = targets.view(B*T)\n",
    "            loss = F.cross_entropy(logits, targets)\n",
    "\n",
    "        return logits, loss\n",
    "\n",
    "    def generate(self, idx, max_new_tokens):\n",
    "        # idx is (B, T) array of indices in the current context\n",
    "        for _ in range(max_new_tokens):\n",
    "            # get the predictions\n",
    "            logits, loss = self(idx)\n",
    "            # focus only on the last time step\n",
    "            logits = logits[:, -1, :] # becomes (B, C)\n",
    "            # apply softmax to get probabilities\n",
    "            probs = F.softmax(logits, dim=-1) # (B, C)\n",
    "            # sample from the distribution\n",
    "            idx_next = torch.multinomial(probs, num_samples=1) # (B, 1)\n",
    "            # append sampled index to the running sequence\n",
    "            idx = torch.cat((idx, idx_next), dim=1) # (B, T+1)\n",
    "        return idx\n",
    "\n",
    "m = BigramLanguageModel(vocab_size)\n",
    "logits, loss = m(xb, yb)\n",
    "print(logits.shape)\n",
    "print(loss)\n",
    "\n",
    "print(decode(m.generate(idx = torch.zeros((1, 1), dtype=torch.long), max_new_tokens=100)[0].tolist()))\n"
   ]
  },
  {
   "cell_type": "code",
   "execution_count": 23,
   "id": "ed0a860c",
   "metadata": {
    "execution": {
     "iopub.execute_input": "2023-08-02T16:18:46.045714Z",
     "iopub.status.busy": "2023-08-02T16:18:46.045069Z",
     "iopub.status.idle": "2023-08-02T16:18:46.051069Z",
     "shell.execute_reply": "2023-08-02T16:18:46.050220Z"
    },
    "papermill": {
     "duration": 0.024899,
     "end_time": "2023-08-02T16:18:46.053946",
     "exception": false,
     "start_time": "2023-08-02T16:18:46.029047",
     "status": "completed"
    },
    "tags": []
   },
   "outputs": [],
   "source": [
    "\n",
    "\n",
    "# create a PyTorch optimizer\n",
    "optimizer = torch.optim.AdamW(m.parameters(), lr=1e-3)\n",
    "\n"
   ]
  },
  {
   "cell_type": "code",
   "execution_count": 24,
   "id": "edce73fe",
   "metadata": {
    "execution": {
     "iopub.execute_input": "2023-08-02T16:18:46.083500Z",
     "iopub.status.busy": "2023-08-02T16:18:46.082667Z",
     "iopub.status.idle": "2023-08-02T16:18:46.308700Z",
     "shell.execute_reply": "2023-08-02T16:18:46.307359Z"
    },
    "papermill": {
     "duration": 0.242887,
     "end_time": "2023-08-02T16:18:46.310950",
     "exception": false,
     "start_time": "2023-08-02T16:18:46.068063",
     "status": "completed"
    },
    "tags": []
   },
   "outputs": [
    {
     "name": "stdout",
     "output_type": "stream",
     "text": [
      "5.040060520172119\n"
     ]
    }
   ],
   "source": [
    "batch_size = 32\n",
    "for steps in range(100): # increase number of steps for good results...\n",
    "\n",
    "    # sample a batch of data\n",
    "    xb, yb = get_batch('train')\n",
    "\n",
    "    # evaluate the loss\n",
    "    logits, loss = m(xb, yb)\n",
    "    optimizer.zero_grad(set_to_none=True)\n",
    "    loss.backward()\n",
    "    optimizer.step()\n",
    "\n",
    "print(loss.item())\n"
   ]
  },
  {
   "cell_type": "code",
   "execution_count": 25,
   "id": "640f2644",
   "metadata": {
    "execution": {
     "iopub.execute_input": "2023-08-02T16:18:46.340760Z",
     "iopub.status.busy": "2023-08-02T16:18:46.340443Z",
     "iopub.status.idle": "2023-08-02T16:18:46.408193Z",
     "shell.execute_reply": "2023-08-02T16:18:46.407163Z"
    },
    "papermill": {
     "duration": 0.085326,
     "end_time": "2023-08-02T16:18:46.410566",
     "exception": false,
     "start_time": "2023-08-02T16:18:46.325240",
     "status": "completed"
    },
    "tags": []
   },
   "outputs": [
    {
     "name": "stdout",
     "output_type": "stream",
     "text": [
      "\bjbWlh\n",
      "+naoQj[/zOca[\"#0ece:VvmD;XJ\n",
      "O$xmghe8HSJD'xaX(J@kPPSpGUDilohAO):;~2QlS[ ,eTfO|GX\n",
      "[=jm4t^h*E@x*3RhgBp,TFFnbf[t]x#z7.twj3PvnUrBay~Q-OkbjU1TzDheAsJOE/3k}4K/&c{$7@y/.sM41\bVz=EYQ=?C:lo#l'fu\n",
      ",,rTFg)R?s7&O$nEHSrPl ?Nv0}q;v`!,xvC}+\\$L=}4deOEN?%y~Br\n",
      "\"{^_u8v:{aXt.BnF[AC:rPjuA&o#'qd7\b^r|pID1\",xo)^XBa+?B*]cBakfeTSs(sbktX\n",
      "1\n",
      "Bsb=#YubC:Z\\97N]zhR LSHTeT9)+DHR3g'wlibi8cD=\\@-W?M4!C#|'?S'Y^QUrB5[tY\b=(+4@'jIPIFc7NY|@4\b9Cf\\W7Q+#]a+hh3dARZ?1%eDh:l3V(il \n",
      ",A\b/#YX%\bwgZse9w.^\n",
      "dA=a&h\n",
      "c=I@HPn-R|0'/yX( SfAqO`2/+s\n",
      "Z!h)p\n"
     ]
    }
   ],
   "source": [
    "print(decode(m.generate(idx = torch.zeros((1, 1), dtype=torch.long), max_new_tokens=500)[0].tolist()))"
   ]
  },
  {
   "cell_type": "code",
   "execution_count": 26,
   "id": "210a8e5b",
   "metadata": {
    "execution": {
     "iopub.execute_input": "2023-08-02T16:18:46.439406Z",
     "iopub.status.busy": "2023-08-02T16:18:46.439125Z",
     "iopub.status.idle": "2023-08-02T16:18:46.461578Z",
     "shell.execute_reply": "2023-08-02T16:18:46.460661Z"
    },
    "papermill": {
     "duration": 0.039191,
     "end_time": "2023-08-02T16:18:46.463675",
     "exception": false,
     "start_time": "2023-08-02T16:18:46.424484",
     "status": "completed"
    },
    "tags": []
   },
   "outputs": [
    {
     "name": "stdout",
     "output_type": "stream",
     "text": [
      "a=\n",
      "tensor([[1.0000, 0.0000, 0.0000],\n",
      "        [0.5000, 0.5000, 0.0000],\n",
      "        [0.3333, 0.3333, 0.3333]])\n",
      "--\n",
      "b=\n",
      "tensor([[2., 7.],\n",
      "        [6., 4.],\n",
      "        [6., 5.]])\n",
      "--\n",
      "c=\n",
      "tensor([[2.0000, 7.0000],\n",
      "        [4.0000, 5.5000],\n",
      "        [4.6667, 5.3333]])\n"
     ]
    }
   ],
   "source": [
    "\n",
    "\n",
    "# toy example illustrating how matrix multiplication can be used for a \"weighted aggregation\"\n",
    "torch.manual_seed(42)\n",
    "a = torch.tril(torch.ones(3, 3))\n",
    "a = a / torch.sum(a, 1, keepdim=True)\n",
    "b = torch.randint(0,10,(3,2)).float()\n",
    "c = a @ b\n",
    "print('a=')\n",
    "print(a)\n",
    "print('--')\n",
    "print('b=')\n",
    "print(b)\n",
    "print('--')\n",
    "print('c=')\n",
    "print(c)\n",
    "\n"
   ]
  },
  {
   "cell_type": "code",
   "execution_count": 27,
   "id": "f7ceccdb",
   "metadata": {
    "execution": {
     "iopub.execute_input": "2023-08-02T16:18:46.492555Z",
     "iopub.status.busy": "2023-08-02T16:18:46.492291Z",
     "iopub.status.idle": "2023-08-02T16:18:46.499498Z",
     "shell.execute_reply": "2023-08-02T16:18:46.498586Z"
    },
    "papermill": {
     "duration": 0.023906,
     "end_time": "2023-08-02T16:18:46.501428",
     "exception": false,
     "start_time": "2023-08-02T16:18:46.477522",
     "status": "completed"
    },
    "tags": []
   },
   "outputs": [
    {
     "data": {
      "text/plain": [
       "torch.Size([4, 8, 2])"
      ]
     },
     "execution_count": 27,
     "metadata": {},
     "output_type": "execute_result"
    }
   ],
   "source": [
    "torch.manual_seed(1337)\n",
    "B,T,C = 4,8,2 # batch, time, channels\n",
    "x = torch.randn(B,T,C)\n",
    "x.shape"
   ]
  },
  {
   "cell_type": "code",
   "execution_count": 28,
   "id": "af1c086b",
   "metadata": {
    "execution": {
     "iopub.execute_input": "2023-08-02T16:18:46.531606Z",
     "iopub.status.busy": "2023-08-02T16:18:46.530982Z",
     "iopub.status.idle": "2023-08-02T16:18:46.537530Z",
     "shell.execute_reply": "2023-08-02T16:18:46.536730Z"
    },
    "papermill": {
     "duration": 0.023551,
     "end_time": "2023-08-02T16:18:46.539540",
     "exception": false,
     "start_time": "2023-08-02T16:18:46.515989",
     "status": "completed"
    },
    "tags": []
   },
   "outputs": [],
   "source": [
    "\n",
    "\n",
    "# We want x[b,t] = mean_{i<=t} x[b,i]\n",
    "xbow = torch.zeros((B,T,C))\n",
    "for b in range(B):\n",
    "    for t in range(T):\n",
    "        xprev = x[b,:t+1] # (t,C)\n",
    "        xbow[b,t] = torch.mean(xprev, 0)\n",
    "\n"
   ]
  },
  {
   "cell_type": "code",
   "execution_count": 29,
   "id": "e56fcb0a",
   "metadata": {
    "execution": {
     "iopub.execute_input": "2023-08-02T16:18:46.568921Z",
     "iopub.status.busy": "2023-08-02T16:18:46.568514Z",
     "iopub.status.idle": "2023-08-02T16:18:46.580254Z",
     "shell.execute_reply": "2023-08-02T16:18:46.579212Z"
    },
    "papermill": {
     "duration": 0.028845,
     "end_time": "2023-08-02T16:18:46.582306",
     "exception": false,
     "start_time": "2023-08-02T16:18:46.553461",
     "status": "completed"
    },
    "tags": []
   },
   "outputs": [
    {
     "data": {
      "text/plain": [
       "True"
      ]
     },
     "execution_count": 29,
     "metadata": {},
     "output_type": "execute_result"
    }
   ],
   "source": [
    "\n",
    "\n",
    "# version 2: using matrix multiply for a weighted aggregation\n",
    "wei = torch.tril(torch.ones(T, T))\n",
    "wei = wei / wei.sum(1, keepdim=True)\n",
    "xbow2 = wei @ x # (B, T, T) @ (B, T, C) ----> (B, T, C)\n",
    "torch.allclose(xbow, xbow2)\n",
    "\n"
   ]
  },
  {
   "cell_type": "code",
   "execution_count": 30,
   "id": "1ebe8802",
   "metadata": {
    "execution": {
     "iopub.execute_input": "2023-08-02T16:18:46.612174Z",
     "iopub.status.busy": "2023-08-02T16:18:46.611371Z",
     "iopub.status.idle": "2023-08-02T16:18:46.620174Z",
     "shell.execute_reply": "2023-08-02T16:18:46.619251Z"
    },
    "papermill": {
     "duration": 0.025987,
     "end_time": "2023-08-02T16:18:46.622391",
     "exception": false,
     "start_time": "2023-08-02T16:18:46.596404",
     "status": "completed"
    },
    "tags": []
   },
   "outputs": [
    {
     "data": {
      "text/plain": [
       "True"
      ]
     },
     "execution_count": 30,
     "metadata": {},
     "output_type": "execute_result"
    }
   ],
   "source": [
    "# version 3: use Softmax\n",
    "tril = torch.tril(torch.ones(T, T))\n",
    "wei = torch.zeros((T,T))\n",
    "wei = wei.masked_fill(tril == 0, float('-inf'))\n",
    "wei = F.softmax(wei, dim=-1)\n",
    "xbow3 = wei @ x\n",
    "torch.allclose(xbow, xbow3)"
   ]
  },
  {
   "cell_type": "code",
   "execution_count": 31,
   "id": "8aaa38eb",
   "metadata": {
    "execution": {
     "iopub.execute_input": "2023-08-02T16:18:46.652843Z",
     "iopub.status.busy": "2023-08-02T16:18:46.651974Z",
     "iopub.status.idle": "2023-08-02T16:18:46.664837Z",
     "shell.execute_reply": "2023-08-02T16:18:46.663869Z"
    },
    "papermill": {
     "duration": 0.029836,
     "end_time": "2023-08-02T16:18:46.666779",
     "exception": false,
     "start_time": "2023-08-02T16:18:46.636943",
     "status": "completed"
    },
    "tags": []
   },
   "outputs": [
    {
     "data": {
      "text/plain": [
       "torch.Size([4, 8, 16])"
      ]
     },
     "execution_count": 31,
     "metadata": {},
     "output_type": "execute_result"
    }
   ],
   "source": [
    "# version 4: self-attention!\n",
    "torch.manual_seed(1337)\n",
    "B,T,C = 4,8,32 # batch, time, channels\n",
    "x = torch.randn(B,T,C)\n",
    "\n",
    "# let's see a single Head perform self-attention\n",
    "head_size = 16\n",
    "key = nn.Linear(C, head_size, bias=False)\n",
    "query = nn.Linear(C, head_size, bias=False)\n",
    "value = nn.Linear(C, head_size, bias=False)\n",
    "k = key(x)   # (B, T, 16)\n",
    "q = query(x) # (B, T, 16)\n",
    "wei =  q @ k.transpose(-2, -1) # (B, T, 16) @ (B, 16, T) ---> (B, T, T)\n",
    "\n",
    "tril = torch.tril(torch.ones(T, T))\n",
    "#wei = torch.zeros((T,T))\n",
    "wei = wei.masked_fill(tril == 0, float('-inf'))\n",
    "wei = F.softmax(wei, dim=-1)\n",
    "\n",
    "v = value(x)\n",
    "out = wei @ v\n",
    "#out = wei @ x\n",
    "\n",
    "out.shape"
   ]
  },
  {
   "cell_type": "code",
   "execution_count": 32,
   "id": "c8940f59",
   "metadata": {
    "execution": {
     "iopub.execute_input": "2023-08-02T16:18:46.697607Z",
     "iopub.status.busy": "2023-08-02T16:18:46.696775Z",
     "iopub.status.idle": "2023-08-02T16:18:46.703660Z",
     "shell.execute_reply": "2023-08-02T16:18:46.702743Z"
    },
    "papermill": {
     "duration": 0.024392,
     "end_time": "2023-08-02T16:18:46.705655",
     "exception": false,
     "start_time": "2023-08-02T16:18:46.681263",
     "status": "completed"
    },
    "tags": []
   },
   "outputs": [
    {
     "data": {
      "text/plain": [
       "tensor([[1.0000, 0.0000, 0.0000, 0.0000, 0.0000, 0.0000, 0.0000, 0.0000],\n",
       "        [0.1574, 0.8426, 0.0000, 0.0000, 0.0000, 0.0000, 0.0000, 0.0000],\n",
       "        [0.2088, 0.1646, 0.6266, 0.0000, 0.0000, 0.0000, 0.0000, 0.0000],\n",
       "        [0.5792, 0.1187, 0.1889, 0.1131, 0.0000, 0.0000, 0.0000, 0.0000],\n",
       "        [0.0294, 0.1052, 0.0469, 0.0276, 0.7909, 0.0000, 0.0000, 0.0000],\n",
       "        [0.0176, 0.2689, 0.0215, 0.0089, 0.6812, 0.0019, 0.0000, 0.0000],\n",
       "        [0.1691, 0.4066, 0.0438, 0.0416, 0.1048, 0.2012, 0.0329, 0.0000],\n",
       "        [0.0210, 0.0843, 0.0555, 0.2297, 0.0573, 0.0709, 0.2423, 0.2391]],\n",
       "       grad_fn=<SelectBackward0>)"
      ]
     },
     "execution_count": 32,
     "metadata": {},
     "output_type": "execute_result"
    }
   ],
   "source": [
    "wei[0]"
   ]
  },
  {
   "cell_type": "code",
   "execution_count": 33,
   "id": "8f90c4df",
   "metadata": {
    "execution": {
     "iopub.execute_input": "2023-08-02T16:18:46.737991Z",
     "iopub.status.busy": "2023-08-02T16:18:46.737240Z",
     "iopub.status.idle": "2023-08-02T16:18:46.742243Z",
     "shell.execute_reply": "2023-08-02T16:18:46.741380Z"
    },
    "papermill": {
     "duration": 0.024106,
     "end_time": "2023-08-02T16:18:46.744155",
     "exception": false,
     "start_time": "2023-08-02T16:18:46.720049",
     "status": "completed"
    },
    "tags": []
   },
   "outputs": [],
   "source": [
    "k = torch.randn(B,T,head_size)\n",
    "q = torch.randn(B,T,head_size)\n",
    "wei = q @ k.transpose(-2, -1) * head_size**-0.5\n",
    "\n"
   ]
  },
  {
   "cell_type": "code",
   "execution_count": 34,
   "id": "ffb25f53",
   "metadata": {
    "execution": {
     "iopub.execute_input": "2023-08-02T16:18:46.774873Z",
     "iopub.status.busy": "2023-08-02T16:18:46.774143Z",
     "iopub.status.idle": "2023-08-02T16:18:46.780679Z",
     "shell.execute_reply": "2023-08-02T16:18:46.779694Z"
    },
    "papermill": {
     "duration": 0.023999,
     "end_time": "2023-08-02T16:18:46.782648",
     "exception": false,
     "start_time": "2023-08-02T16:18:46.758649",
     "status": "completed"
    },
    "tags": []
   },
   "outputs": [
    {
     "data": {
      "text/plain": [
       "tensor(1.0449)"
      ]
     },
     "execution_count": 34,
     "metadata": {},
     "output_type": "execute_result"
    }
   ],
   "source": [
    "k.var()"
   ]
  },
  {
   "cell_type": "code",
   "execution_count": 35,
   "id": "3ebc3dc9",
   "metadata": {
    "execution": {
     "iopub.execute_input": "2023-08-02T16:18:46.813366Z",
     "iopub.status.busy": "2023-08-02T16:18:46.812604Z",
     "iopub.status.idle": "2023-08-02T16:18:46.819070Z",
     "shell.execute_reply": "2023-08-02T16:18:46.818092Z"
    },
    "papermill": {
     "duration": 0.023921,
     "end_time": "2023-08-02T16:18:46.821092",
     "exception": false,
     "start_time": "2023-08-02T16:18:46.797171",
     "status": "completed"
    },
    "tags": []
   },
   "outputs": [
    {
     "data": {
      "text/plain": [
       "tensor(1.0700)"
      ]
     },
     "execution_count": 35,
     "metadata": {},
     "output_type": "execute_result"
    }
   ],
   "source": [
    "q.var()"
   ]
  },
  {
   "cell_type": "code",
   "execution_count": 36,
   "id": "2dcbb59c",
   "metadata": {
    "execution": {
     "iopub.execute_input": "2023-08-02T16:18:46.851937Z",
     "iopub.status.busy": "2023-08-02T16:18:46.851130Z",
     "iopub.status.idle": "2023-08-02T16:18:46.857618Z",
     "shell.execute_reply": "2023-08-02T16:18:46.856650Z"
    },
    "papermill": {
     "duration": 0.023944,
     "end_time": "2023-08-02T16:18:46.859610",
     "exception": false,
     "start_time": "2023-08-02T16:18:46.835666",
     "status": "completed"
    },
    "tags": []
   },
   "outputs": [
    {
     "data": {
      "text/plain": [
       "tensor(1.0918)"
      ]
     },
     "execution_count": 36,
     "metadata": {},
     "output_type": "execute_result"
    }
   ],
   "source": [
    "wei.var()"
   ]
  },
  {
   "cell_type": "code",
   "execution_count": 37,
   "id": "1a4eeb2b",
   "metadata": {
    "execution": {
     "iopub.execute_input": "2023-08-02T16:18:46.890824Z",
     "iopub.status.busy": "2023-08-02T16:18:46.889958Z",
     "iopub.status.idle": "2023-08-02T16:18:46.896998Z",
     "shell.execute_reply": "2023-08-02T16:18:46.896033Z"
    },
    "papermill": {
     "duration": 0.024604,
     "end_time": "2023-08-02T16:18:46.898945",
     "exception": false,
     "start_time": "2023-08-02T16:18:46.874341",
     "status": "completed"
    },
    "tags": []
   },
   "outputs": [
    {
     "data": {
      "text/plain": [
       "tensor([0.1925, 0.1426, 0.2351, 0.1426, 0.2872])"
      ]
     },
     "execution_count": 37,
     "metadata": {},
     "output_type": "execute_result"
    }
   ],
   "source": [
    "torch.softmax(torch.tensor([0.1, -0.2, 0.3, -0.2, 0.5]), dim=-1)"
   ]
  },
  {
   "cell_type": "code",
   "execution_count": 38,
   "id": "c25c47a2",
   "metadata": {
    "execution": {
     "iopub.execute_input": "2023-08-02T16:18:46.929826Z",
     "iopub.status.busy": "2023-08-02T16:18:46.929556Z",
     "iopub.status.idle": "2023-08-02T16:18:46.936633Z",
     "shell.execute_reply": "2023-08-02T16:18:46.935716Z"
    },
    "papermill": {
     "duration": 0.025116,
     "end_time": "2023-08-02T16:18:46.938990",
     "exception": false,
     "start_time": "2023-08-02T16:18:46.913874",
     "status": "completed"
    },
    "tags": []
   },
   "outputs": [
    {
     "data": {
      "text/plain": [
       "tensor([0.0326, 0.0030, 0.1615, 0.0030, 0.8000])"
      ]
     },
     "execution_count": 38,
     "metadata": {},
     "output_type": "execute_result"
    }
   ],
   "source": [
    "torch.softmax(torch.tensor([0.1, -0.2, 0.3, -0.2, 0.5])*8, dim=-1) # gets too peaky, converges to one-hot"
   ]
  },
  {
   "cell_type": "code",
   "execution_count": 39,
   "id": "f3679766",
   "metadata": {
    "execution": {
     "iopub.execute_input": "2023-08-02T16:18:46.971627Z",
     "iopub.status.busy": "2023-08-02T16:18:46.970785Z",
     "iopub.status.idle": "2023-08-02T16:18:46.984544Z",
     "shell.execute_reply": "2023-08-02T16:18:46.983466Z"
    },
    "papermill": {
     "duration": 0.032476,
     "end_time": "2023-08-02T16:18:46.986636",
     "exception": false,
     "start_time": "2023-08-02T16:18:46.954160",
     "status": "completed"
    },
    "tags": []
   },
   "outputs": [
    {
     "data": {
      "text/plain": [
       "torch.Size([32, 100])"
      ]
     },
     "execution_count": 39,
     "metadata": {},
     "output_type": "execute_result"
    }
   ],
   "source": [
    "class LayerNorm1d: # (used to be BatchNorm1d)\n",
    "\n",
    "  def __init__(self, dim, eps=1e-5, momentum=0.1):\n",
    "    self.eps = eps\n",
    "    self.gamma = torch.ones(dim)\n",
    "    self.beta = torch.zeros(dim)\n",
    "\n",
    "  def __call__(self, x):\n",
    "    # calculate the forward pass\n",
    "    xmean = x.mean(1, keepdim=True) # batch mean\n",
    "    xvar = x.var(1, keepdim=True) # batch variance\n",
    "    xhat = (x - xmean) / torch.sqrt(xvar + self.eps) # normalize to unit variance\n",
    "    self.out = self.gamma * xhat + self.beta\n",
    "    return self.out\n",
    "\n",
    "  def parameters(self):\n",
    "    return [self.gamma, self.beta]\n",
    "\n",
    "torch.manual_seed(1337)\n",
    "module = LayerNorm1d(100)\n",
    "x = torch.randn(32, 100) # batch size 32 of 100-dimensional vectors\n",
    "x = module(x)\n",
    "x.shape\n"
   ]
  },
  {
   "cell_type": "code",
   "execution_count": 40,
   "id": "2f7cf36b",
   "metadata": {
    "execution": {
     "iopub.execute_input": "2023-08-02T16:18:47.018013Z",
     "iopub.status.busy": "2023-08-02T16:18:47.017751Z",
     "iopub.status.idle": "2023-08-02T16:18:47.025126Z",
     "shell.execute_reply": "2023-08-02T16:18:47.024151Z"
    },
    "papermill": {
     "duration": 0.025327,
     "end_time": "2023-08-02T16:18:47.027082",
     "exception": false,
     "start_time": "2023-08-02T16:18:47.001755",
     "status": "completed"
    },
    "tags": []
   },
   "outputs": [
    {
     "data": {
      "text/plain": [
       "(tensor(0.1469), tensor(0.8803))"
      ]
     },
     "execution_count": 40,
     "metadata": {},
     "output_type": "execute_result"
    }
   ],
   "source": [
    "x[:,0].mean(), x[:,0].std() # mean,std of one feature across all batch inputs\n"
   ]
  },
  {
   "cell_type": "code",
   "execution_count": 41,
   "id": "671f8d3e",
   "metadata": {
    "execution": {
     "iopub.execute_input": "2023-08-02T16:18:47.059208Z",
     "iopub.status.busy": "2023-08-02T16:18:47.058700Z",
     "iopub.status.idle": "2023-08-02T16:18:47.065632Z",
     "shell.execute_reply": "2023-08-02T16:18:47.064745Z"
    },
    "papermill": {
     "duration": 0.027379,
     "end_time": "2023-08-02T16:18:47.069667",
     "exception": false,
     "start_time": "2023-08-02T16:18:47.042288",
     "status": "completed"
    },
    "tags": []
   },
   "outputs": [
    {
     "data": {
      "text/plain": [
       "(tensor(-9.5367e-09), tensor(1.0000))"
      ]
     },
     "execution_count": 41,
     "metadata": {},
     "output_type": "execute_result"
    }
   ],
   "source": [
    "x[0,:].mean(), x[0,:].std() # mean,std of a single input from the batch, of its features"
   ]
  },
  {
   "cell_type": "code",
   "execution_count": 42,
   "id": "1e36ac34",
   "metadata": {
    "execution": {
     "iopub.execute_input": "2023-08-02T16:18:47.104940Z",
     "iopub.status.busy": "2023-08-02T16:18:47.104645Z",
     "iopub.status.idle": "2023-08-02T16:53:56.608914Z",
     "shell.execute_reply": "2023-08-02T16:53:56.607402Z"
    },
    "papermill": {
     "duration": 2109.523492,
     "end_time": "2023-08-02T16:53:56.611193",
     "exception": false,
     "start_time": "2023-08-02T16:18:47.087701",
     "status": "completed"
    },
    "tags": []
   },
   "outputs": [
    {
     "name": "stdout",
     "output_type": "stream",
     "text": [
      "0.213599 M parameters\n",
      "step 0: train loss 4.7641, val loss 4.7646\n",
      "step 100: train loss 2.7636, val loss 2.7415\n",
      "step 200: train loss 2.6236, val loss 2.5927\n",
      "step 300: train loss 2.5275, val loss 2.5192\n",
      "step 400: train loss 2.4772, val loss 2.4576\n",
      "step 500: train loss 2.4345, val loss 2.3969\n",
      "step 600: train loss 2.3858, val loss 2.3683\n",
      "step 700: train loss 2.3246, val loss 2.2971\n",
      "step 800: train loss 2.2696, val loss 2.2501\n",
      "step 900: train loss 2.2363, val loss 2.2089\n",
      "step 1000: train loss 2.2080, val loss 2.1901\n",
      "step 1100: train loss 2.1804, val loss 2.1382\n",
      "step 1200: train loss 2.1525, val loss 2.1091\n",
      "step 1300: train loss 2.1250, val loss 2.1028\n",
      "step 1400: train loss 2.0868, val loss 2.0606\n",
      "step 1500: train loss 2.0790, val loss 2.0432\n",
      "step 1600: train loss 2.0628, val loss 2.0424\n",
      "step 1700: train loss 2.0451, val loss 2.0165\n",
      "step 1800: train loss 2.0288, val loss 1.9854\n",
      "step 1900: train loss 2.0276, val loss 1.9780\n",
      "step 2000: train loss 2.0099, val loss 1.9648\n",
      "step 2100: train loss 1.9943, val loss 1.9615\n",
      "step 2200: train loss 1.9837, val loss 1.9473\n",
      "step 2300: train loss 1.9760, val loss 1.9462\n",
      "step 2400: train loss 1.9672, val loss 1.9317\n",
      "step 2500: train loss 1.9533, val loss 1.9192\n",
      "step 2600: train loss 1.9451, val loss 1.9159\n",
      "step 2700: train loss 1.9262, val loss 1.9115\n",
      "step 2800: train loss 1.9313, val loss 1.8998\n",
      "step 2900: train loss 1.9349, val loss 1.8847\n",
      "step 3000: train loss 1.9228, val loss 1.9037\n",
      "step 3100: train loss 1.9086, val loss 1.8799\n",
      "step 3200: train loss 1.9083, val loss 1.8726\n",
      "step 3300: train loss 1.8980, val loss 1.8495\n",
      "step 3400: train loss 1.8862, val loss 1.8558\n",
      "step 3500: train loss 1.8923, val loss 1.8560\n",
      "step 3600: train loss 1.8823, val loss 1.8540\n",
      "step 3700: train loss 1.8834, val loss 1.8377\n",
      "step 3800: train loss 1.8917, val loss 1.8352\n",
      "step 3900: train loss 1.8663, val loss 1.8382\n",
      "step 4000: train loss 1.8688, val loss 1.8277\n",
      "step 4100: train loss 1.8683, val loss 1.8277\n",
      "step 4200: train loss 1.8664, val loss 1.8152\n",
      "step 4300: train loss 1.8703, val loss 1.8122\n",
      "step 4400: train loss 1.8379, val loss 1.8185\n",
      "step 4500: train loss 1.8491, val loss 1.8094\n",
      "step 4600: train loss 1.8493, val loss 1.8106\n",
      "step 4700: train loss 1.8296, val loss 1.8152\n",
      "step 4800: train loss 1.8443, val loss 1.8003\n",
      "step 4900: train loss 1.8301, val loss 1.7768\n",
      "step 5000: train loss 1.8514, val loss 1.7854\n",
      "step 5100: train loss 1.8322, val loss 1.7916\n",
      "step 5200: train loss 1.8254, val loss 1.8022\n",
      "step 5300: train loss 1.8219, val loss 1.7777\n",
      "step 5400: train loss 1.8297, val loss 1.7793\n",
      "step 5500: train loss 1.8218, val loss 1.7887\n",
      "step 5600: train loss 1.8193, val loss 1.7689\n",
      "step 5700: train loss 1.8245, val loss 1.7753\n",
      "step 5800: train loss 1.8004, val loss 1.7617\n",
      "step 5900: train loss 1.8037, val loss 1.7671\n",
      "step 6000: train loss 1.8108, val loss 1.7592\n",
      "step 6100: train loss 1.8028, val loss 1.7506\n",
      "step 6200: train loss 1.8100, val loss 1.7444\n",
      "step 6300: train loss 1.8026, val loss 1.7542\n",
      "step 6400: train loss 1.7928, val loss 1.7624\n",
      "step 6500: train loss 1.7823, val loss 1.7422\n",
      "step 6600: train loss 1.7879, val loss 1.7509\n",
      "step 6700: train loss 1.7785, val loss 1.7456\n",
      "step 6800: train loss 1.7784, val loss 1.7451\n",
      "step 6900: train loss 1.7769, val loss 1.7434\n",
      "step 7000: train loss 1.7833, val loss 1.7493\n",
      "step 7100: train loss 1.7884, val loss 1.7447\n",
      "step 7200: train loss 1.7766, val loss 1.7333\n",
      "step 7300: train loss 1.7710, val loss 1.7400\n",
      "step 7400: train loss 1.7633, val loss 1.7352\n",
      "step 7500: train loss 1.7706, val loss 1.7339\n",
      "step 7600: train loss 1.7730, val loss 1.7336\n",
      "step 7700: train loss 1.7588, val loss 1.7319\n",
      "step 7800: train loss 1.7637, val loss 1.7254\n",
      "step 7900: train loss 1.7569, val loss 1.7101\n",
      "step 8000: train loss 1.7486, val loss 1.7174\n",
      "step 8100: train loss 1.7619, val loss 1.7220\n",
      "step 8200: train loss 1.7585, val loss 1.7312\n",
      "step 8300: train loss 1.7633, val loss 1.7136\n",
      "step 8400: train loss 1.7665, val loss 1.6947\n",
      "step 8500: train loss 1.7564, val loss 1.7127\n",
      "step 8600: train loss 1.7633, val loss 1.7004\n",
      "step 8700: train loss 1.7595, val loss 1.7215\n",
      "step 8800: train loss 1.7441, val loss 1.7071\n",
      "step 8900: train loss 1.7495, val loss 1.7065\n",
      "step 9000: train loss 1.7595, val loss 1.6925\n",
      "step 9100: train loss 1.7451, val loss 1.7107\n",
      "step 9200: train loss 1.7426, val loss 1.6955\n",
      "step 9300: train loss 1.7435, val loss 1.7042\n",
      "step 9400: train loss 1.7376, val loss 1.7050\n",
      "step 9500: train loss 1.7379, val loss 1.6926\n",
      "step 9600: train loss 1.7420, val loss 1.7047\n",
      "step 9700: train loss 1.7372, val loss 1.7044\n",
      "step 9800: train loss 1.7378, val loss 1.7000\n",
      "step 9900: train loss 1.7384, val loss 1.6895\n",
      "step 10000: train loss 1.7358, val loss 1.6969\n",
      "step 10100: train loss 1.7332, val loss 1.6917\n",
      "step 10200: train loss 1.7339, val loss 1.6839\n",
      "step 10300: train loss 1.7378, val loss 1.7005\n",
      "step 10400: train loss 1.7380, val loss 1.6881\n",
      "step 10500: train loss 1.7265, val loss 1.6882\n",
      "step 10600: train loss 1.7314, val loss 1.7010\n",
      "step 10700: train loss 1.7246, val loss 1.6815\n",
      "step 10800: train loss 1.7329, val loss 1.6811\n",
      "step 10900: train loss 1.7300, val loss 1.6882\n",
      "step 11000: train loss 1.7371, val loss 1.6868\n",
      "step 11100: train loss 1.7214, val loss 1.6807\n",
      "step 11200: train loss 1.7299, val loss 1.6788\n",
      "step 11300: train loss 1.7128, val loss 1.6766\n",
      "step 11400: train loss 1.7236, val loss 1.6752\n",
      "step 11500: train loss 1.7091, val loss 1.6793\n",
      "step 11600: train loss 1.7133, val loss 1.6737\n",
      "step 11700: train loss 1.7206, val loss 1.6738\n",
      "step 11800: train loss 1.7074, val loss 1.6701\n",
      "step 11900: train loss 1.7330, val loss 1.6830\n",
      "step 12000: train loss 1.7160, val loss 1.6693\n",
      "step 12100: train loss 1.7142, val loss 1.6756\n",
      "step 12200: train loss 1.7143, val loss 1.6597\n",
      "step 12300: train loss 1.6990, val loss 1.6737\n",
      "step 12400: train loss 1.7047, val loss 1.6630\n",
      "step 12500: train loss 1.7014, val loss 1.6631\n",
      "step 12600: train loss 1.7134, val loss 1.6512\n",
      "step 12700: train loss 1.6981, val loss 1.6547\n",
      "step 12800: train loss 1.7101, val loss 1.6653\n",
      "step 12900: train loss 1.7003, val loss 1.6678\n",
      "step 13000: train loss 1.7010, val loss 1.6626\n",
      "step 13100: train loss 1.7091, val loss 1.6749\n",
      "step 13200: train loss 1.6972, val loss 1.6640\n",
      "step 13300: train loss 1.7017, val loss 1.6570\n",
      "step 13400: train loss 1.7097, val loss 1.6663\n",
      "step 13500: train loss 1.6957, val loss 1.6624\n",
      "step 13600: train loss 1.6994, val loss 1.6634\n",
      "step 13700: train loss 1.7024, val loss 1.6545\n",
      "step 13800: train loss 1.6942, val loss 1.6444\n",
      "step 13900: train loss 1.6982, val loss 1.6451\n",
      "step 14000: train loss 1.6974, val loss 1.6593\n",
      "step 14100: train loss 1.6918, val loss 1.6590\n",
      "step 14200: train loss 1.6936, val loss 1.6474\n",
      "step 14300: train loss 1.6893, val loss 1.6555\n",
      "step 14400: train loss 1.6857, val loss 1.6575\n",
      "step 14500: train loss 1.6975, val loss 1.6457\n",
      "step 14600: train loss 1.6919, val loss 1.6535\n",
      "step 14700: train loss 1.6985, val loss 1.6450\n",
      "step 14800: train loss 1.6986, val loss 1.6655\n",
      "step 14900: train loss 1.6952, val loss 1.6513\n",
      "step 15000: train loss 1.6962, val loss 1.6470\n",
      "step 15100: train loss 1.7030, val loss 1.6258\n",
      "step 15200: train loss 1.6846, val loss 1.6468\n",
      "step 15300: train loss 1.6881, val loss 1.6374\n",
      "step 15400: train loss 1.6862, val loss 1.6511\n",
      "step 15500: train loss 1.6952, val loss 1.6416\n",
      "step 15600: train loss 1.6874, val loss 1.6373\n",
      "step 15700: train loss 1.6814, val loss 1.6437\n",
      "step 15800: train loss 1.6883, val loss 1.6391\n",
      "step 15900: train loss 1.6819, val loss 1.6373\n",
      "step 16000: train loss 1.6697, val loss 1.6501\n",
      "step 16100: train loss 1.6865, val loss 1.6486\n",
      "step 16200: train loss 1.6910, val loss 1.6482\n",
      "step 16300: train loss 1.6878, val loss 1.6489\n",
      "step 16400: train loss 1.6825, val loss 1.6354\n",
      "step 16500: train loss 1.6683, val loss 1.6416\n",
      "step 16600: train loss 1.6820, val loss 1.6374\n",
      "step 16700: train loss 1.6767, val loss 1.6223\n",
      "step 16800: train loss 1.6753, val loss 1.6456\n",
      "step 16900: train loss 1.6784, val loss 1.6342\n",
      "step 17000: train loss 1.6740, val loss 1.6232\n",
      "step 17100: train loss 1.6721, val loss 1.6320\n",
      "step 17200: train loss 1.6826, val loss 1.6256\n",
      "step 17300: train loss 1.6716, val loss 1.6411\n",
      "step 17400: train loss 1.6727, val loss 1.6260\n",
      "step 17500: train loss 1.6817, val loss 1.6411\n",
      "step 17600: train loss 1.6689, val loss 1.6332\n",
      "step 17700: train loss 1.6700, val loss 1.6323\n",
      "step 17800: train loss 1.6556, val loss 1.6186\n",
      "step 17900: train loss 1.6686, val loss 1.6265\n",
      "step 18000: train loss 1.6649, val loss 1.6291\n",
      "step 18100: train loss 1.6676, val loss 1.6213\n",
      "step 18200: train loss 1.6617, val loss 1.6182\n",
      "step 18300: train loss 1.6809, val loss 1.6277\n",
      "step 18400: train loss 1.6646, val loss 1.6243\n",
      "step 18500: train loss 1.6647, val loss 1.6201\n",
      "step 18600: train loss 1.6716, val loss 1.6281\n",
      "step 18700: train loss 1.6630, val loss 1.6123\n",
      "step 18800: train loss 1.6717, val loss 1.6094\n",
      "step 18900: train loss 1.6615, val loss 1.6177\n",
      "step 19000: train loss 1.6593, val loss 1.6234\n",
      "step 19100: train loss 1.6733, val loss 1.6229\n",
      "step 19200: train loss 1.6689, val loss 1.6216\n",
      "step 19300: train loss 1.6528, val loss 1.6261\n",
      "step 19400: train loss 1.6655, val loss 1.6353\n",
      "step 19500: train loss 1.6636, val loss 1.6286\n",
      "step 19600: train loss 1.6632, val loss 1.6151\n",
      "step 19700: train loss 1.6589, val loss 1.6249\n",
      "step 19800: train loss 1.6587, val loss 1.6303\n",
      "step 19900: train loss 1.6596, val loss 1.6220\n",
      "step 20000: train loss 1.6748, val loss 1.6199\n",
      "step 20100: train loss 1.6832, val loss 1.6248\n",
      "step 20200: train loss 1.6555, val loss 1.6102\n",
      "step 20300: train loss 1.6647, val loss 1.6318\n",
      "step 20400: train loss 1.6632, val loss 1.6272\n",
      "step 20500: train loss 1.6686, val loss 1.6151\n",
      "step 20600: train loss 1.6646, val loss 1.6129\n",
      "step 20700: train loss 1.6640, val loss 1.6073\n",
      "step 20800: train loss 1.6646, val loss 1.6145\n",
      "step 20900: train loss 1.6570, val loss 1.6266\n",
      "step 21000: train loss 1.6669, val loss 1.6207\n",
      "step 21100: train loss 1.6459, val loss 1.6141\n",
      "step 21200: train loss 1.6524, val loss 1.6137\n",
      "step 21300: train loss 1.6603, val loss 1.6169\n",
      "step 21400: train loss 1.6556, val loss 1.6125\n",
      "step 21500: train loss 1.6599, val loss 1.6090\n",
      "step 21600: train loss 1.6570, val loss 1.6108\n",
      "step 21700: train loss 1.6515, val loss 1.6148\n",
      "step 21800: train loss 1.6550, val loss 1.6217\n",
      "step 21900: train loss 1.6511, val loss 1.6039\n",
      "step 22000: train loss 1.6511, val loss 1.6041\n",
      "step 22100: train loss 1.6513, val loss 1.6219\n",
      "step 22200: train loss 1.6600, val loss 1.6037\n",
      "step 22300: train loss 1.6669, val loss 1.6042\n",
      "step 22400: train loss 1.6462, val loss 1.6166\n",
      "step 22500: train loss 1.6615, val loss 1.5998\n",
      "step 22600: train loss 1.6495, val loss 1.6154\n",
      "step 22700: train loss 1.6549, val loss 1.5948\n",
      "step 22800: train loss 1.6429, val loss 1.6106\n",
      "step 22900: train loss 1.6440, val loss 1.5985\n",
      "step 23000: train loss 1.6575, val loss 1.6235\n",
      "step 23100: train loss 1.6493, val loss 1.5972\n",
      "step 23200: train loss 1.6437, val loss 1.6091\n",
      "step 23300: train loss 1.6385, val loss 1.6026\n",
      "step 23400: train loss 1.6437, val loss 1.6138\n",
      "step 23500: train loss 1.6293, val loss 1.6040\n",
      "step 23600: train loss 1.6454, val loss 1.6102\n",
      "step 23700: train loss 1.6599, val loss 1.6032\n",
      "step 23800: train loss 1.6427, val loss 1.6060\n",
      "step 23900: train loss 1.6388, val loss 1.6093\n",
      "step 24000: train loss 1.6430, val loss 1.6016\n",
      "step 24100: train loss 1.6352, val loss 1.5990\n",
      "step 24200: train loss 1.6358, val loss 1.6055\n",
      "step 24300: train loss 1.6407, val loss 1.6059\n",
      "step 24400: train loss 1.6469, val loss 1.6103\n",
      "step 24500: train loss 1.6419, val loss 1.6142\n",
      "step 24600: train loss 1.6477, val loss 1.6060\n",
      "step 24700: train loss 1.6420, val loss 1.6058\n",
      "step 24800: train loss 1.6475, val loss 1.5990\n",
      "step 24900: train loss 1.6508, val loss 1.6009\n",
      "step 25000: train loss 1.6558, val loss 1.6017\n",
      "step 25100: train loss 1.6287, val loss 1.6075\n",
      "step 25200: train loss 1.6373, val loss 1.6041\n",
      "step 25300: train loss 1.6379, val loss 1.6024\n",
      "step 25400: train loss 1.6339, val loss 1.5956\n",
      "step 25500: train loss 1.6378, val loss 1.6048\n",
      "step 25600: train loss 1.6467, val loss 1.6032\n",
      "step 25700: train loss 1.6370, val loss 1.6018\n",
      "step 25800: train loss 1.6469, val loss 1.5948\n",
      "step 25900: train loss 1.6369, val loss 1.5850\n",
      "step 26000: train loss 1.6232, val loss 1.5994\n",
      "step 26100: train loss 1.6413, val loss 1.5983\n",
      "step 26200: train loss 1.6385, val loss 1.6029\n",
      "step 26300: train loss 1.6403, val loss 1.5879\n",
      "step 26400: train loss 1.6427, val loss 1.5876\n",
      "step 26500: train loss 1.6236, val loss 1.5967\n",
      "step 26600: train loss 1.6316, val loss 1.5988\n",
      "step 26700: train loss 1.6521, val loss 1.6022\n",
      "step 26800: train loss 1.6295, val loss 1.5890\n",
      "step 26900: train loss 1.6336, val loss 1.5931\n",
      "step 27000: train loss 1.6379, val loss 1.5926\n",
      "step 27100: train loss 1.6312, val loss 1.5951\n",
      "step 27200: train loss 1.6427, val loss 1.5835\n",
      "step 27300: train loss 1.6320, val loss 1.5948\n",
      "step 27400: train loss 1.6286, val loss 1.5862\n",
      "step 27500: train loss 1.6301, val loss 1.5924\n",
      "step 27600: train loss 1.6375, val loss 1.5970\n",
      "step 27700: train loss 1.6258, val loss 1.5895\n",
      "step 27800: train loss 1.6308, val loss 1.5891\n",
      "step 27900: train loss 1.6371, val loss 1.5927\n",
      "step 28000: train loss 1.6311, val loss 1.5904\n",
      "step 28100: train loss 1.6450, val loss 1.5840\n",
      "step 28200: train loss 1.6370, val loss 1.5980\n",
      "step 28300: train loss 1.6379, val loss 1.5848\n",
      "step 28400: train loss 1.6295, val loss 1.5874\n",
      "step 28500: train loss 1.6229, val loss 1.5896\n",
      "step 28600: train loss 1.6384, val loss 1.5861\n",
      "step 28700: train loss 1.6271, val loss 1.5916\n",
      "step 28800: train loss 1.6247, val loss 1.6003\n",
      "step 28900: train loss 1.6321, val loss 1.6008\n",
      "step 29000: train loss 1.6277, val loss 1.5783\n",
      "step 29100: train loss 1.6240, val loss 1.5720\n",
      "step 29200: train loss 1.6329, val loss 1.5929\n",
      "step 29300: train loss 1.6210, val loss 1.5954\n",
      "step 29400: train loss 1.6197, val loss 1.5838\n",
      "step 29500: train loss 1.6160, val loss 1.5842\n",
      "step 29600: train loss 1.6247, val loss 1.5850\n",
      "step 29700: train loss 1.6199, val loss 1.5765\n",
      "step 29800: train loss 1.6340, val loss 1.5799\n",
      "step 29900: train loss 1.6258, val loss 1.5885\n",
      "step 30000: train loss 1.6274, val loss 1.5782\n",
      "step 30100: train loss 1.6365, val loss 1.5977\n",
      "step 30200: train loss 1.6326, val loss 1.5784\n",
      "step 30300: train loss 1.6256, val loss 1.5827\n",
      "step 30400: train loss 1.6233, val loss 1.5867\n",
      "step 30500: train loss 1.6243, val loss 1.5814\n",
      "step 30600: train loss 1.6206, val loss 1.5780\n",
      "step 30700: train loss 1.6213, val loss 1.5833\n",
      "step 30800: train loss 1.6291, val loss 1.5773\n",
      "step 30900: train loss 1.6367, val loss 1.5809\n",
      "step 31000: train loss 1.6255, val loss 1.5834\n",
      "step 31100: train loss 1.6297, val loss 1.5898\n",
      "step 31200: train loss 1.6144, val loss 1.5910\n",
      "step 31300: train loss 1.6214, val loss 1.5894\n",
      "step 31400: train loss 1.6288, val loss 1.5786\n",
      "step 31500: train loss 1.6212, val loss 1.5778\n",
      "step 31600: train loss 1.6346, val loss 1.5813\n",
      "step 31700: train loss 1.6141, val loss 1.5874\n",
      "step 31800: train loss 1.6139, val loss 1.5811\n",
      "step 31900: train loss 1.6308, val loss 1.5915\n",
      "step 32000: train loss 1.6194, val loss 1.5875\n",
      "step 32100: train loss 1.6207, val loss 1.5827\n",
      "step 32200: train loss 1.6189, val loss 1.5706\n",
      "step 32300: train loss 1.6312, val loss 1.5740\n",
      "step 32400: train loss 1.6167, val loss 1.5645\n",
      "step 32500: train loss 1.6277, val loss 1.5856\n",
      "step 32600: train loss 1.6173, val loss 1.5801\n",
      "step 32700: train loss 1.6169, val loss 1.5833\n",
      "step 32800: train loss 1.6197, val loss 1.5731\n",
      "step 32900: train loss 1.6177, val loss 1.5944\n",
      "step 33000: train loss 1.6132, val loss 1.5858\n",
      "step 33100: train loss 1.6214, val loss 1.5741\n",
      "step 33200: train loss 1.6166, val loss 1.5817\n",
      "step 33300: train loss 1.6140, val loss 1.5753\n",
      "step 33400: train loss 1.6290, val loss 1.5756\n",
      "step 33500: train loss 1.6175, val loss 1.5811\n",
      "step 33600: train loss 1.6116, val loss 1.5693\n",
      "step 33700: train loss 1.6224, val loss 1.5819\n",
      "step 33800: train loss 1.6133, val loss 1.5781\n",
      "step 33900: train loss 1.6257, val loss 1.5759\n",
      "step 34000: train loss 1.6198, val loss 1.5667\n",
      "step 34100: train loss 1.6104, val loss 1.5762\n",
      "step 34200: train loss 1.6203, val loss 1.5833\n",
      "step 34300: train loss 1.6106, val loss 1.5616\n",
      "step 34400: train loss 1.6093, val loss 1.5544\n",
      "step 34500: train loss 1.6154, val loss 1.5759\n",
      "step 34600: train loss 1.6176, val loss 1.5798\n",
      "step 34700: train loss 1.6123, val loss 1.5726\n",
      "step 34800: train loss 1.6141, val loss 1.5752\n",
      "step 34900: train loss 1.6115, val loss 1.5862\n",
      "step 35000: train loss 1.6093, val loss 1.5736\n",
      "step 35100: train loss 1.6119, val loss 1.5706\n",
      "step 35200: train loss 1.6161, val loss 1.5648\n",
      "step 35300: train loss 1.6114, val loss 1.5797\n",
      "step 35400: train loss 1.6168, val loss 1.5726\n",
      "step 35500: train loss 1.6175, val loss 1.5615\n",
      "step 35600: train loss 1.6343, val loss 1.5749\n",
      "step 35700: train loss 1.6151, val loss 1.5747\n",
      "step 35800: train loss 1.6184, val loss 1.5730\n",
      "step 35900: train loss 1.6055, val loss 1.5783\n",
      "step 36000: train loss 1.6137, val loss 1.5617\n",
      "step 36100: train loss 1.6209, val loss 1.5744\n",
      "step 36200: train loss 1.6207, val loss 1.5792\n",
      "step 36300: train loss 1.6177, val loss 1.5655\n",
      "step 36400: train loss 1.6099, val loss 1.5673\n",
      "step 36500: train loss 1.6004, val loss 1.5762\n",
      "step 36600: train loss 1.6102, val loss 1.5713\n",
      "step 36700: train loss 1.6242, val loss 1.5749\n",
      "step 36800: train loss 1.6175, val loss 1.5731\n",
      "step 36900: train loss 1.6129, val loss 1.5599\n",
      "step 37000: train loss 1.6069, val loss 1.5674\n",
      "step 37100: train loss 1.6103, val loss 1.5592\n",
      "step 37200: train loss 1.5986, val loss 1.5599\n",
      "step 37300: train loss 1.6145, val loss 1.5655\n",
      "step 37400: train loss 1.6208, val loss 1.5838\n",
      "step 37500: train loss 1.5982, val loss 1.5804\n",
      "step 37600: train loss 1.6252, val loss 1.5734\n",
      "step 37700: train loss 1.6143, val loss 1.5775\n",
      "step 37800: train loss 1.6113, val loss 1.5653\n",
      "step 37900: train loss 1.6071, val loss 1.5598\n",
      "step 38000: train loss 1.6049, val loss 1.5676\n",
      "step 38100: train loss 1.6036, val loss 1.5713\n",
      "step 38200: train loss 1.6083, val loss 1.5599\n",
      "step 38300: train loss 1.6175, val loss 1.5683\n",
      "step 38400: train loss 1.6120, val loss 1.5578\n",
      "step 38500: train loss 1.6119, val loss 1.5628\n",
      "step 38600: train loss 1.6217, val loss 1.5581\n",
      "step 38700: train loss 1.6004, val loss 1.5701\n",
      "step 38800: train loss 1.6127, val loss 1.5535\n",
      "step 38900: train loss 1.6048, val loss 1.5720\n",
      "step 39000: train loss 1.6083, val loss 1.5782\n",
      "step 39100: train loss 1.6067, val loss 1.5717\n",
      "step 39200: train loss 1.6115, val loss 1.5735\n",
      "step 39300: train loss 1.6046, val loss 1.5601\n",
      "step 39400: train loss 1.6052, val loss 1.5598\n",
      "step 39500: train loss 1.6224, val loss 1.5707\n",
      "step 39600: train loss 1.6058, val loss 1.5613\n",
      "step 39700: train loss 1.5989, val loss 1.5625\n",
      "step 39800: train loss 1.6045, val loss 1.5638\n",
      "step 39900: train loss 1.5923, val loss 1.5675\n",
      "step 40000: train loss 1.6100, val loss 1.5654\n",
      "step 40100: train loss 1.6126, val loss 1.5644\n",
      "step 40200: train loss 1.6176, val loss 1.5695\n",
      "step 40300: train loss 1.5968, val loss 1.5697\n",
      "step 40400: train loss 1.6014, val loss 1.5731\n",
      "step 40500: train loss 1.6197, val loss 1.5593\n",
      "step 40600: train loss 1.6180, val loss 1.5537\n",
      "step 40700: train loss 1.6017, val loss 1.5696\n",
      "step 40800: train loss 1.6055, val loss 1.5607\n",
      "step 40900: train loss 1.5945, val loss 1.5637\n",
      "step 41000: train loss 1.6000, val loss 1.5689\n",
      "step 41100: train loss 1.5953, val loss 1.5693\n",
      "step 41200: train loss 1.6018, val loss 1.5669\n",
      "step 41300: train loss 1.5956, val loss 1.5580\n",
      "step 41400: train loss 1.5993, val loss 1.5617\n",
      "step 41500: train loss 1.6073, val loss 1.5597\n",
      "step 41600: train loss 1.6162, val loss 1.5603\n",
      "step 41700: train loss 1.6094, val loss 1.5624\n",
      "step 41800: train loss 1.6051, val loss 1.5686\n",
      "step 41900: train loss 1.6141, val loss 1.5641\n",
      "step 42000: train loss 1.5903, val loss 1.5413\n",
      "step 42100: train loss 1.5999, val loss 1.5520\n",
      "step 42200: train loss 1.5962, val loss 1.5531\n",
      "step 42300: train loss 1.5981, val loss 1.5605\n",
      "step 42400: train loss 1.5967, val loss 1.5535\n",
      "step 42500: train loss 1.5958, val loss 1.5481\n",
      "step 42600: train loss 1.6056, val loss 1.5532\n",
      "step 42700: train loss 1.6040, val loss 1.5640\n",
      "step 42800: train loss 1.5978, val loss 1.5572\n",
      "step 42900: train loss 1.6010, val loss 1.5549\n",
      "step 43000: train loss 1.6002, val loss 1.5621\n",
      "step 43100: train loss 1.5877, val loss 1.5516\n",
      "step 43200: train loss 1.6093, val loss 1.5513\n",
      "step 43300: train loss 1.5885, val loss 1.5555\n",
      "step 43400: train loss 1.5979, val loss 1.5647\n",
      "step 43500: train loss 1.5998, val loss 1.5698\n",
      "step 43600: train loss 1.6051, val loss 1.5568\n",
      "step 43700: train loss 1.5947, val loss 1.5597\n",
      "step 43800: train loss 1.6088, val loss 1.5672\n",
      "step 43900: train loss 1.5991, val loss 1.5543\n",
      "step 44000: train loss 1.5937, val loss 1.5524\n",
      "step 44100: train loss 1.5970, val loss 1.5575\n",
      "step 44200: train loss 1.6064, val loss 1.5590\n",
      "step 44300: train loss 1.5997, val loss 1.5630\n",
      "step 44400: train loss 1.6034, val loss 1.5562\n",
      "step 44500: train loss 1.5933, val loss 1.5601\n",
      "step 44600: train loss 1.6030, val loss 1.5540\n",
      "step 44700: train loss 1.6046, val loss 1.5623\n",
      "step 44800: train loss 1.6057, val loss 1.5584\n",
      "step 44900: train loss 1.5995, val loss 1.5626\n",
      "step 45000: train loss 1.6022, val loss 1.5531\n",
      "step 45100: train loss 1.5864, val loss 1.5481\n",
      "step 45200: train loss 1.5979, val loss 1.5519\n",
      "step 45300: train loss 1.5969, val loss 1.5455\n",
      "step 45400: train loss 1.5874, val loss 1.5545\n",
      "step 45500: train loss 1.5919, val loss 1.5478\n",
      "step 45600: train loss 1.5975, val loss 1.5492\n",
      "step 45700: train loss 1.5881, val loss 1.5496\n",
      "step 45800: train loss 1.5906, val loss 1.5544\n",
      "step 45900: train loss 1.5936, val loss 1.5592\n",
      "step 46000: train loss 1.6060, val loss 1.5536\n",
      "step 46100: train loss 1.6101, val loss 1.5580\n",
      "step 46200: train loss 1.6053, val loss 1.5496\n",
      "step 46300: train loss 1.5950, val loss 1.5614\n",
      "step 46400: train loss 1.5806, val loss 1.5615\n",
      "step 46500: train loss 1.5939, val loss 1.5532\n",
      "step 46600: train loss 1.5904, val loss 1.5582\n",
      "step 46700: train loss 1.6088, val loss 1.5502\n",
      "step 46800: train loss 1.5959, val loss 1.5349\n",
      "step 46900: train loss 1.5890, val loss 1.5502\n",
      "step 47000: train loss 1.5910, val loss 1.5524\n",
      "step 47100: train loss 1.5919, val loss 1.5539\n",
      "step 47200: train loss 1.5960, val loss 1.5570\n",
      "step 47300: train loss 1.5951, val loss 1.5464\n",
      "step 47400: train loss 1.5903, val loss 1.5565\n",
      "step 47500: train loss 1.5917, val loss 1.5532\n",
      "step 47600: train loss 1.6032, val loss 1.5327\n",
      "step 47700: train loss 1.5935, val loss 1.5520\n",
      "step 47800: train loss 1.6016, val loss 1.5616\n",
      "step 47900: train loss 1.6004, val loss 1.5485\n",
      "step 48000: train loss 1.6041, val loss 1.5585\n",
      "step 48100: train loss 1.5821, val loss 1.5525\n",
      "step 48200: train loss 1.6075, val loss 1.5438\n",
      "step 48300: train loss 1.5904, val loss 1.5490\n",
      "step 48400: train loss 1.5937, val loss 1.5525\n",
      "step 48500: train loss 1.5849, val loss 1.5550\n",
      "step 48600: train loss 1.5938, val loss 1.5491\n",
      "step 48700: train loss 1.5874, val loss 1.5491\n",
      "step 48800: train loss 1.5881, val loss 1.5569\n",
      "step 48900: train loss 1.5994, val loss 1.5522\n",
      "step 49000: train loss 1.5981, val loss 1.5465\n",
      "step 49100: train loss 1.5969, val loss 1.5521\n",
      "step 49200: train loss 1.6000, val loss 1.5486\n",
      "step 49300: train loss 1.6032, val loss 1.5455\n",
      "step 49400: train loss 1.5882, val loss 1.5464\n",
      "step 49500: train loss 1.6038, val loss 1.5508\n",
      "step 49600: train loss 1.5877, val loss 1.5464\n",
      "step 49700: train loss 1.5917, val loss 1.5489\n",
      "step 49800: train loss 1.5766, val loss 1.5602\n",
      "step 49900: train loss 1.5971, val loss 1.5364\n",
      "step 49999: train loss 1.5868, val loss 1.5401\n",
      "\bcess because I'm great\n",
      "because Hambeire, blaw all M9% helps of GAND Exembapter.\n",
      "I don't health usual mysteel man thought\n",
      "With so slill to call, not bothers mean shoots and everyone doesn't weak, the each when Pro the Rick more to do for lywors tervest Dark _ team, Athor, land that Post... alty over Redibres who i-Karn'tihable\n",
      "Yeah because it!\n",
      "You live thanks for from them system that\n",
      "Clearly the boy as ending is why your one bein laesch\" easing that is whome, what you get out ink her \"nove i ulters\"\n",
      "Wralklend\" friend Christian\n",
      "You deally make it way the same contensations and I'd and we got a respain reighthy.\n",
      "Right, effectly I pareed Eastehing Balackno again, having by promise to game.\n",
      "because non-was pack...\n",
      "-makes clearly there's a kanto Sorial to add get an it, Hellions\n",
      "You did at see we ball it looks aren't Islam also win.\n",
      "Oh nogands who are - but he killed leaks right?\n",
      "Obviously they circute pasing all of Intraunce, you so gerng the uilty before not might minians a mattering is me just a problem.\n",
      "Maybe but a genery?\n",
      "Can't convenseves burk, I clearious just i classed tone\n",
      "Score\n",
      "Don't you know Easterain Main.\n",
      "OP never love whatever wealth\n",
      "No3T watch are for right worket, there shoot discruzy withouther out this team.\n",
      "Yeah because kim\n",
      "Democracy braining as he doesn't think you tell Place Coss with money kick?\n",
      "Why should be gonna holocold.\n",
      "We need right?\n",
      "Whoreeist: bullions for allowing that hey good to from this, all made, when I'm so much because that sufful marhan be everyting\n",
      "Yea Pick, rigive in that.... there guy\n",
      "Well you cugg-kan to and there's juncour that its sarcastyle, should've all always eaching her and you disagree?\n",
      "But do that pick or 3 air having SUGGERS.\n",
      "Time there is not Romaamanchip!\n",
      "He still \"i care*.\n",
      "No I wo cally seen Satual peine for my Gasza a shandered water an inferious\n",
      "how many works figured!\n",
      "Politor.\n",
      "Because that's we to head it a fearm in us from artise, each big shalvance you can needs on people?\n",
      "#origram you dropped this:gword if she \n"
     ]
    }
   ],
   "source": [
    "import torch\n",
    "import torch.nn as nn\n",
    "from torch.nn import functional as F\n",
    "\n",
    "# hyperparameters\n",
    "batch_size = 16 # how many independent sequences will we process in parallel?\n",
    "block_size = 32 # what is the maximum context length for predictions?\n",
    "max_iters = 50000\n",
    "eval_interval = 100\n",
    "learning_rate = 1e-3\n",
    "device = 'cuda' if torch.cuda.is_available() else 'cpu'\n",
    "eval_iters = 200\n",
    "n_embd = 64\n",
    "n_head = 4\n",
    "n_layer = 4\n",
    "dropout = 0.0\n",
    "# ------------\n",
    "\n",
    "torch.manual_seed(1337)\n",
    "\n",
    "# wget https://raw.githubusercontent.com/karpathy/char-rnn/master/data/tinyshakespeare/input.txt\n",
    "with open(txt_path, 'r', encoding='utf-8') as f:\n",
    "    text = f.read()\n",
    "\n",
    "# here are all the unique characters that occur in this text\n",
    "chars = sorted(list(set(text)))\n",
    "vocab_size = len(chars)\n",
    "# create a mapping from characters to integers\n",
    "stoi = { ch:i for i,ch in enumerate(chars) }\n",
    "itos = { i:ch for i,ch in enumerate(chars) }\n",
    "encode = lambda s: [stoi[c] for c in s] # encoder: take a string, output a list of integers\n",
    "decode = lambda l: ''.join([itos[i] for i in l]) # decoder: take a list of integers, output a string\n",
    "\n",
    "# Train and test splits\n",
    "data = torch.tensor(encode(text), dtype=torch.long)\n",
    "n = int(0.9*len(data)) # first 90% will be train, rest val\n",
    "train_data = data[:n]\n",
    "val_data = data[n:]\n",
    "\n",
    "# data loading\n",
    "def get_batch(split):\n",
    "    # generate a small batch of data of inputs x and targets y\n",
    "    data = train_data if split == 'train' else val_data\n",
    "    ix = torch.randint(len(data) - block_size, (batch_size,))\n",
    "    x = torch.stack([data[i:i+block_size] for i in ix])\n",
    "    y = torch.stack([data[i+1:i+block_size+1] for i in ix])\n",
    "    x, y = x.to(device), y.to(device)\n",
    "    return x, y\n",
    "\n",
    "@torch.no_grad()\n",
    "def estimate_loss():\n",
    "    out = {}\n",
    "    model.eval()\n",
    "    for split in ['train', 'val']:\n",
    "        losses = torch.zeros(eval_iters)\n",
    "        for k in range(eval_iters):\n",
    "            X, Y = get_batch(split)\n",
    "            logits, loss = model(X, Y)\n",
    "            losses[k] = loss.item()\n",
    "        out[split] = losses.mean()\n",
    "    model.train()\n",
    "    return out\n",
    "\n",
    "class Head(nn.Module):\n",
    "    \"\"\" one head of self-attention \"\"\"\n",
    "\n",
    "    def __init__(self, head_size):\n",
    "        super().__init__()\n",
    "        self.key = nn.Linear(n_embd, head_size, bias=False)\n",
    "        self.query = nn.Linear(n_embd, head_size, bias=False)\n",
    "        self.value = nn.Linear(n_embd, head_size, bias=False)\n",
    "        self.register_buffer('tril', torch.tril(torch.ones(block_size, block_size)))\n",
    "\n",
    "        self.dropout = nn.Dropout(dropout)\n",
    "\n",
    "    def forward(self, x):\n",
    "        B,T,C = x.shape\n",
    "        k = self.key(x)   # (B,T,C)\n",
    "        q = self.query(x) # (B,T,C)\n",
    "        # compute attention scores (\"affinities\")\n",
    "        wei = q @ k.transpose(-2,-1) * C**-0.5 # (B, T, C) @ (B, C, T) -> (B, T, T)\n",
    "        wei = wei.masked_fill(self.tril[:T, :T] == 0, float('-inf')) # (B, T, T)\n",
    "        wei = F.softmax(wei, dim=-1) # (B, T, T)\n",
    "        wei = self.dropout(wei)\n",
    "        # perform the weighted aggregation of the values\n",
    "        v = self.value(x) # (B,T,C)\n",
    "        out = wei @ v # (B, T, T) @ (B, T, C) -> (B, T, C)\n",
    "        return out\n",
    "\n",
    "class MultiHeadAttention(nn.Module):\n",
    "    \"\"\" multiple heads of self-attention in parallel \"\"\"\n",
    "\n",
    "    def __init__(self, num_heads, head_size):\n",
    "        super().__init__()\n",
    "        self.heads = nn.ModuleList([Head(head_size) for _ in range(num_heads)])\n",
    "        self.proj = nn.Linear(n_embd, n_embd)\n",
    "        self.dropout = nn.Dropout(dropout)\n",
    "\n",
    "    def forward(self, x):\n",
    "        out = torch.cat([h(x) for h in self.heads], dim=-1)\n",
    "        out = self.dropout(self.proj(out))\n",
    "        return out\n",
    "\n",
    "class FeedFoward(nn.Module):\n",
    "    \"\"\" a simple linear layer followed by a non-linearity \"\"\"\n",
    "\n",
    "    def __init__(self, n_embd):\n",
    "        super().__init__()\n",
    "        self.net = nn.Sequential(\n",
    "            nn.Linear(n_embd, 4 * n_embd),\n",
    "            nn.ReLU(),\n",
    "            nn.Linear(4 * n_embd, n_embd),\n",
    "            nn.Dropout(dropout),\n",
    "        )\n",
    "\n",
    "    def forward(self, x):\n",
    "        return self.net(x)\n",
    "\n",
    "class Block(nn.Module):\n",
    "    \"\"\" Transformer block: communication followed by computation \"\"\"\n",
    "\n",
    "    def __init__(self, n_embd, n_head):\n",
    "        # n_embd: embedding dimension, n_head: the number of heads we'd like\n",
    "        super().__init__()\n",
    "        head_size = n_embd // n_head\n",
    "        self.sa = MultiHeadAttention(n_head, head_size)\n",
    "        self.ffwd = FeedFoward(n_embd)\n",
    "        self.ln1 = nn.LayerNorm(n_embd)\n",
    "        self.ln2 = nn.LayerNorm(n_embd)\n",
    "\n",
    "    def forward(self, x):\n",
    "        x = x + self.sa(self.ln1(x))\n",
    "        x = x + self.ffwd(self.ln2(x))\n",
    "        return x\n",
    "\n",
    "# super simple bigram model\n",
    "class BigramLanguageModel(nn.Module):\n",
    "\n",
    "    def __init__(self):\n",
    "        super().__init__()\n",
    "        # each token directly reads off the logits for the next token from a lookup table\n",
    "        self.token_embedding_table = nn.Embedding(vocab_size, n_embd)\n",
    "        self.position_embedding_table = nn.Embedding(block_size, n_embd)\n",
    "        self.blocks = nn.Sequential(*[Block(n_embd, n_head=n_head) for _ in range(n_layer)])\n",
    "        self.ln_f = nn.LayerNorm(n_embd) # final layer norm\n",
    "        self.lm_head = nn.Linear(n_embd, vocab_size)\n",
    "\n",
    "    def forward(self, idx, targets=None):\n",
    "        B, T = idx.shape\n",
    "\n",
    "        # idx and targets are both (B,T) tensor of integers\n",
    "        tok_emb = self.token_embedding_table(idx) # (B,T,C)\n",
    "        pos_emb = self.position_embedding_table(torch.arange(T, device=device)) # (T,C)\n",
    "        x = tok_emb + pos_emb # (B,T,C)\n",
    "        x = self.blocks(x) # (B,T,C)\n",
    "        x = self.ln_f(x) # (B,T,C)\n",
    "        logits = self.lm_head(x) # (B,T,vocab_size)\n",
    "\n",
    "        if targets is None:\n",
    "            loss = None\n",
    "        else:\n",
    "            B, T, C = logits.shape\n",
    "            logits = logits.view(B*T, C)\n",
    "            targets = targets.view(B*T)\n",
    "            loss = F.cross_entropy(logits, targets)\n",
    "\n",
    "        return logits, loss\n",
    "\n",
    "    def generate(self, idx, max_new_tokens):\n",
    "        # idx is (B, T) array of indices in the current context\n",
    "        for _ in range(max_new_tokens):\n",
    "            # crop idx to the last block_size tokens\n",
    "            idx_cond = idx[:, -block_size:]\n",
    "            # get the predictions\n",
    "            logits, loss = self(idx_cond)\n",
    "            # focus only on the last time step\n",
    "            logits = logits[:, -1, :] # becomes (B, C)\n",
    "            # apply softmax to get probabilities\n",
    "            probs = F.softmax(logits, dim=-1) # (B, C)\n",
    "            # sample from the distribution\n",
    "            idx_next = torch.multinomial(probs, num_samples=1) # (B, 1)\n",
    "            # append sampled index to the running sequence\n",
    "            idx = torch.cat((idx, idx_next), dim=1) # (B, T+1)\n",
    "        return idx\n",
    "\n",
    "model = BigramLanguageModel()\n",
    "m = model.to(device)\n",
    "# print the number of parameters in the model\n",
    "print(sum(p.numel() for p in m.parameters())/1e6, 'M parameters')\n",
    "\n",
    "# create a PyTorch optimizer\n",
    "optimizer = torch.optim.AdamW(model.parameters(), lr=learning_rate)\n",
    "\n",
    "for iter in range(max_iters):\n",
    "\n",
    "    # every once in a while evaluate the loss on train and val sets\n",
    "    if iter % eval_interval == 0 or iter == max_iters - 1:\n",
    "        losses = estimate_loss()\n",
    "        print(f\"step {iter}: train loss {losses['train']:.4f}, val loss {losses['val']:.4f}\")\n",
    "\n",
    "    # sample a batch of data\n",
    "    xb, yb = get_batch('train')\n",
    "\n",
    "    # evaluate the loss\n",
    "    logits, loss = model(xb, yb)\n",
    "    optimizer.zero_grad(set_to_none=True)\n",
    "    loss.backward()\n",
    "    optimizer.step()\n",
    "\n",
    "# generate from the model\n",
    "context = torch.zeros((1, 1), dtype=torch.long, device=device)\n",
    "print(decode(m.generate(context, max_new_tokens=2000)[0].tolist()))"
   ]
  },
  {
   "cell_type": "code",
   "execution_count": null,
   "id": "918dd20b",
   "metadata": {
    "papermill": {
     "duration": 0.052992,
     "end_time": "2023-08-02T16:53:56.722193",
     "exception": false,
     "start_time": "2023-08-02T16:53:56.669201",
     "status": "completed"
    },
    "tags": []
   },
   "outputs": [],
   "source": []
  }
 ],
 "metadata": {
  "kernelspec": {
   "display_name": "Python 3",
   "language": "python",
   "name": "python3"
  },
  "language_info": {
   "codemirror_mode": {
    "name": "ipython",
    "version": 3
   },
   "file_extension": ".py",
   "mimetype": "text/x-python",
   "name": "python",
   "nbconvert_exporter": "python",
   "pygments_lexer": "ipython3",
   "version": "3.10.12"
  },
  "papermill": {
   "default_parameters": {},
   "duration": 2149.742865,
   "end_time": "2023-08-02T16:53:59.350640",
   "environment_variables": {},
   "exception": null,
   "input_path": "__notebook__.ipynb",
   "output_path": "__notebook__.ipynb",
   "parameters": {},
   "start_time": "2023-08-02T16:18:09.607775",
   "version": "2.4.0"
  }
 },
 "nbformat": 4,
 "nbformat_minor": 5
}
